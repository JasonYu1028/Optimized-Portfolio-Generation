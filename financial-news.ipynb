{
 "cells": [
  {
   "cell_type": "code",
   "execution_count": 122,
   "metadata": {},
   "outputs": [],
   "source": [
    "import requests as rq\n",
    "import pandas as pd\n",
    "import json\n",
    "import time"
   ]
  },
  {
   "cell_type": "code",
   "execution_count": 123,
   "metadata": {},
   "outputs": [],
   "source": [
    "apikey = open('benzinga-api-key.txt', 'r').read()\n",
    "dj30 = open('dj30.txt', 'r').read().split('\\n')"
   ]
  },
  {
   "cell_type": "code",
   "execution_count": 124,
   "metadata": {},
   "outputs": [],
   "source": [
    "# Retrive stock news\n",
    "url = \"https://api.benzinga.com/api/v2/news\"\n",
    "headers = {\"accept\": \"application/json\"}\n",
    "total = []\n",
    "for page in range(31):\n",
    "  query = {\"token\": apikey,\n",
    "         \"page\": page,\n",
    "         \"pageSize\": 100,\n",
    "         \"displayOutput\": \"full\",\n",
    "         \"tickers\": dj30}\n",
    "  response = rq.request(\"GET\", url, headers=headers, params=query)\n",
    "  for data in json.loads(response.text):\n",
    "    data.pop('author', None)\n",
    "    data.pop('url', None)\n",
    "    data.pop('image', None)\n",
    "    data.pop('updated', None)\n",
    "    data.pop('channels', None)\n",
    "    data.pop('tags', None)\n",
    "    data['stocks'] = [x['name'] for x in data['stocks']]\n",
    "    total.append(data)\n",
    "  time.sleep(1.5)\n",
    "    "
   ]
  },
  {
   "cell_type": "code",
   "execution_count": 125,
   "metadata": {},
   "outputs": [
    {
     "data": {
      "text/plain": [
       "12513145"
      ]
     },
     "execution_count": 125,
     "metadata": {},
     "output_type": "execute_result"
    }
   ],
   "source": [
    "open('news_data.json', 'w').write(json.dumps(total))"
   ]
  },
  {
   "cell_type": "code",
   "execution_count": 126,
   "metadata": {},
   "outputs": [],
   "source": [
    "# Retrive Analyst insights\n",
    "url = \"https://api.benzinga.com/api/v2/calendar/ratings\"\n",
    "total = []\n",
    "# for page in range(31):\n",
    "query = {\"token\": apikey,\n",
    "         \"fields\": \"date, ticker, action_pt, action_company, rating_current, pt_current, rating_prior, pt_prior, analyst, analyst_id, analyst_name, ratings_accuracy, importance, notes\",\n",
    "         \"page\": 0,\n",
    "         \"pageSize\": 1000,\n",
    "         \"parameters[tickers]\": ','.join(dj30),\n",
    "        }\n",
    "response = rq.request(\"GET\", url, headers=headers, params=query)\n",
    "# time.sleep(1.5)"
   ]
  },
  {
   "cell_type": "code",
   "execution_count": 127,
   "metadata": {},
   "outputs": [
    {
     "data": {
      "text/plain": [
       "143577"
      ]
     },
     "execution_count": 127,
     "metadata": {},
     "output_type": "execute_result"
    }
   ],
   "source": [
    "open('analyst_data.json', 'w').write(response.text)"
   ]
  }
 ],
 "metadata": {
  "kernelspec": {
   "display_name": "base",
   "language": "python",
   "name": "python3"
  },
  "language_info": {
   "codemirror_mode": {
    "name": "ipython",
    "version": 3
   },
   "file_extension": ".py",
   "mimetype": "text/x-python",
   "name": "python",
   "nbconvert_exporter": "python",
   "pygments_lexer": "ipython3",
   "version": "3.8.8"
  }
 },
 "nbformat": 4,
 "nbformat_minor": 2
}
