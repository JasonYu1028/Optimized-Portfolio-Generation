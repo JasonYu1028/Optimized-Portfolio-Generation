{
 "cells": [
  {
   "cell_type": "markdown",
   "metadata": {},
   "source": [
    "# Portfolio Generator\n",
    "Uses the implementation in the `.py` files to generate portfolios"
   ]
  },
  {
   "cell_type": "code",
   "execution_count": 1,
   "metadata": {},
   "outputs": [],
   "source": [
    "import pandas as pd\n",
    "import yfinance as yf\n",
    "\n",
    "import analyst\n",
    "import MVO\n",
    "import utils"
   ]
  },
  {
   "cell_type": "markdown",
   "metadata": {},
   "source": [
    "## Initialize Data"
   ]
  },
  {
   "cell_type": "code",
   "execution_count": 2,
   "metadata": {},
   "outputs": [],
   "source": [
    "# CONSTANTS: TICKERS\n",
    "NASDAQ_100 = open('data/nasdaq100.txt', 'r').read().split('\\n')\n",
    "DOW_JONES_30 = open('data/dj30.txt', 'r').read().split('\\n')\n",
    "\n",
    "NSDQ_INDEX = '^NDX'\n",
    "DJ_INDEX = '^DJI'"
   ]
  },
  {
   "cell_type": "code",
   "execution_count": 3,
   "metadata": {},
   "outputs": [],
   "source": [
    "# CONSTANTS: DATE\n",
    "HIST_START = '2000-01-01'\n",
    "HIST_END = '2024-01-01'\n",
    "\n",
    "TEST_START = '2000-01-01'\n",
    "TEST_END = '2023-06-01'"
   ]
  },
  {
   "cell_type": "code",
   "execution_count": 4,
   "metadata": {},
   "outputs": [
    {
     "name": "stderr",
     "output_type": "stream",
     "text": [
      "[*********************100%%**********************]  101 of 101 completed\n",
      "[*********************100%%**********************]  30 of 30 completed\n",
      "[*********************100%%**********************]  1 of 1 completed\n",
      "[*********************100%%**********************]  1 of 1 completed\n"
     ]
    }
   ],
   "source": [
    "# CONSTANTS: DATA\n",
    "MARKET_FF_HIST = pd.read_csv('data/ff_daily.csv')\n",
    "\n",
    "NSDQ100_HIST = yf.download(NASDAQ_100, start = HIST_START, end = HIST_END, auto_adjust=True)\n",
    "DJ30_HIST = yf.download(DOW_JONES_30, start = HIST_START, end = HIST_END, auto_adjust=True)\n",
    "\n",
    "NSDQ_INDEX_HIST = yf.download([NSDQ_INDEX], start = HIST_START, end = HIST_END, auto_adjust=True)\n",
    "DJ_INDEX_HIST = yf.download([DJ_INDEX], start = HIST_START, end = HIST_END, auto_adjust=True)"
   ]
  },
  {
   "cell_type": "code",
   "execution_count": 5,
   "metadata": {},
   "outputs": [],
   "source": [
    "# CONSTANTS: ANALYST DATA\n",
    "RATINGS = pd.read_parquet('data/analyst_ratings.parquet')\n",
    "GLOBAL_HIST = pd.read_parquet('data/hist_price.parquet')\n",
    "PRICE_TARGET_HIST = pd.read_parquet('data/price_targets.parquet')"
   ]
  },
  {
   "cell_type": "markdown",
   "metadata": {},
   "source": [
    "## Testing on Data"
   ]
  },
  {
   "cell_type": "code",
   "execution_count": 6,
   "metadata": {},
   "outputs": [],
   "source": [
    "analysts = analyst.Analyst(RATINGS, GLOBAL_HIST)"
   ]
  },
  {
   "cell_type": "code",
   "execution_count": 7,
   "metadata": {},
   "outputs": [
    {
     "data": {
      "image/png": "[encoded data removed]",
      "text/plain": [
       "<Figure size 432x288 with 1 Axes>"
      ]
     },
     "metadata": {
      "needs_background": "light"
     },
     "output_type": "display_data"
    }
   ],
   "source": [
    "plot = utils.MVOPlot(MVO.Portfolio(DJ30_HIST, MARKET_FF_HIST, utils.dateadd(TEST_START, \"m\", 1), TEST_END),\n",
    "                     MVO.Portfolio(DJ_INDEX_HIST, MARKET_FF_HIST, utils.dateadd(TEST_START, \"m\", 1), TEST_END))\n",
    "# Ensure no look ahead bias\n",
    "lagged_weights = None\n",
    "for (s,e) in utils.daterange(TEST_START, TEST_END, interval=\"m\"):\n",
    "  risk_free_reference = MVO.Market(MARKET_FF_HIST, s, e)\n",
    "  portfolio = MVO.Portfolio(DJ30_HIST, MARKET_FF_HIST, s, e)\n",
    "  rankings = analysts.rank(e)\n",
    "  price_target = analyst.PriceTarget(PRICE_TARGET_HIST, rankings, DOW_JONES_30)\n",
    "  exp_ret = price_target.get_views(portfolio, e)\n",
    "  mvo = MVO.MVO(portfolio, expected_returns=exp_ret)\n",
    "  mvo.minimum_variance()\n",
    "  if lagged_weights is not None:\n",
    "    plot.add_returns(s, e, lagged_weights)\n",
    "  lagged_weights = mvo.stats['Weights']\n",
    "plot.plot()"
   ]
  }
 ],
 "metadata": {
  "kernelspec": {
   "display_name": "base",
   "language": "python",
   "name": "python3"
  },
  "language_info": {
   "codemirror_mode": {
    "name": "ipython",
    "version": 3
   },
   "file_extension": ".py",
   "mimetype": "text/x-python",
   "name": "python",
   "nbconvert_exporter": "python",
   "pygments_lexer": "ipython3",
   "version": "3.8.8"
  }
 },
 "nbformat": 4,
 "nbformat_minor": 2
}
