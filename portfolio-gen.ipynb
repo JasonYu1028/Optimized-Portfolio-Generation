{
 "cells": [
  {
   "cell_type": "markdown",
   "metadata": {},
   "source": [
    "# Portfolio Generator\n",
    "This is a portfolio generator for personal portfolio management"
   ]
  },
  {
   "cell_type": "code",
   "execution_count": 1,
   "metadata": {},
   "outputs": [],
   "source": [
    "import pandas as pd\n",
    "import numpy as np\n",
    "import matplotlib.pyplot as plt\n",
    "import yfinance as yf\n",
    "from scipy.optimize import minimize\n",
    "from typing import Union"
   ]
  },
  {
   "cell_type": "code",
   "execution_count": 12,
   "metadata": {},
   "outputs": [],
   "source": [
    "class Market:\n",
    "  \"\"\"Market Class (Abstract)\n",
    "  \n",
    "  Params:\n",
    "   - start: start date to retrieve historical data\n",
    "   - end: end date to retrieve historical data\n",
    "  \"\"\"\n",
    "  def __init__(self, start: str, end: Union[str, None] = None) -> None:\n",
    "    self.start = start\n",
    "    self.end = end\n",
    "  \n",
    "  def retrieve_data(self):\n",
    "    raise NotImplementedError(\"Data retrieval not implemented\")\n",
    "    \n",
    "  def calc_stats(self):\n",
    "    self.calc_risk_free_rate()\n",
    "    self.calc_volatility()\n",
    "    \n",
    "  def calc_risk_free_rate(self):\n",
    "    raise NotImplementedError(\"Rf rate not implemented\")\n",
    "    \n",
    "  def calc_volatility(self):\n",
    "    raise NotImplementedError(\"Market volatility not implemented\")\n",
    "\n",
    "  def __str__(self) -> str:\n",
    "    return f'Market Reference: {self.ticker}\\n  Risk-free rate: {self.risk_free_rate}\\n  True Volatility: {self.volatility}'"
   ]
  },
  {
   "cell_type": "code",
   "execution_count": 13,
   "metadata": {},
   "outputs": [],
   "source": [
    "class MarketIndex(Market):\n",
    "  \"\"\"Index-based Market Class\n",
    "  \n",
    "  Params:\n",
    "   - ticker: index to track\n",
    "   - start: start date to retrieve historical data\n",
    "   - end: end date to retrieve historical data\n",
    "  \"\"\"\n",
    "  def __init__(self, ticker: str,  start: str, end: Union[str, None] = None) -> None:\n",
    "    self.ticker = ticker\n",
    "    Market.__init__(self, start, end)\n",
    "    self.retrieve_data()\n",
    "    self.calc_stats()\n",
    "    \n",
    "  def retrieve_data(self):\n",
    "    self.data = yf.download(self.ticker, start = self.start, end = self.end, auto_adjust=True)\n",
    "    self.data = self.data[['Close']].copy()\n",
    "    self.data.dropna(inplace=True)\n",
    "    self.data['Return'] = self.data['Close'].pct_change()\n",
    "    \n",
    "  def calc_risk_free_rate(self):\n",
    "    self.risk_free_rate = np.mean(self.data['Return'])\n",
    "    \n",
    "  def calc_volatility(self):\n",
    "    self.volatility = np.std(self.data['Return'])"
   ]
  },
  {
   "cell_type": "code",
   "execution_count": 18,
   "metadata": {},
   "outputs": [],
   "source": [
    "class MarketFF(Market):\n",
    "  \"\"\"Fama-French Data-based Market Class\n",
    "  \n",
    "  Params:\n",
    "   - file: csv file from Ken French's Fama-French database\n",
    "   - start: start date to retrieve historical data\n",
    "   - end: end date to retrieve historical data\n",
    "  \"\"\"\n",
    "  def __init__(self, start: str, end: Union[str, None] = None) -> None:\n",
    "    self.ticker = 'Fama-French'\n",
    "    Market.__init__(self, start, end)\n",
    "    self.retrieve_data()\n",
    "    self.calc_stats()\n",
    "    \n",
    "  def retrieve_data(self):\n",
    "    self.data = pd.read_csv('https://mba.tuck.dartmouth.edu/pages/faculty/ken.french/ftp/F-F_Research_Data_Factors_daily_CSV.zip', compression='zip', skiprows=[0,1,2]).dropna()\n",
    "    self.data.columns = ['DATE', 'MKTRF', 'SMB', 'HML', 'RF']\n",
    "    self.data['RF'] = self.data['RF'] / 100\n",
    "    self.data['DATE'] = pd.to_datetime(self.data['DATE'], format='%Y%m%d')\n",
    "    if self.end is None:\n",
    "      self.data[(self.data['DATE'] >= self.start)]\n",
    "    else:\n",
    "      self.data[(self.data['DATE'] >= self.start) & (self.data['DATE'] <= self.end)]\n",
    "      \n",
    "  def calc_risk_free_rate(self):\n",
    "    self.risk_free_rate = np.mean(self.data['RF'])\n",
    "    \n",
    "  def calc_volatility(self):\n",
    "    self.volatility = 0"
   ]
  },
  {
   "cell_type": "code",
   "execution_count": 28,
   "metadata": {},
   "outputs": [],
   "source": [
    "class Portfolio:\n",
    "  \"\"\"Portfolio Class\n",
    "  \n",
    "  Params:\n",
    "   - tickers: the list of stocks to generate the portfolio\n",
    "   - start: start date to retrieve historical data\n",
    "   - end: end date to retrieve historical data\n",
    "  \"\"\"\n",
    "  def __init__(self, tickers: list = [], start: str = \"2014-01-01\", end: Union[str, None] = None) -> None:\n",
    "    if len(tickers) <= 1:\n",
    "      raise Exception(\"Tickers must be a list of at least 2 assets\")\n",
    "    self.tickers = [ticker.upper() for ticker in tickers]\n",
    "    self.start = start\n",
    "    self.end = end\n",
    "    self.retrieve_data()\n",
    "    self.calc_stats()\n",
    "    \n",
    "  def __str__(self) -> str:\n",
    "    return f'Portfolio Assets: {self.tickers}\\n  Average Return: {self.mean_returns}'\n",
    "    \n",
    "  def retrieve_data(self):\n",
    "    self.data = yf.download(self.tickers, start = self.start, end = self.end, auto_adjust=True)\n",
    "    self.data = self.data[['Close']]\n",
    "    self.data.dropna(inplace=True)\n",
    "    \n",
    "    returns = self.data[['Close']].pct_change()\n",
    "    returns.columns = returns.columns.set_levels(['Return'], level=0)\n",
    "    self.data = pd.concat([self.data, returns], axis=1)\n",
    "  \n",
    "  def calc_stats(self):\n",
    "    self.calc_mean_returns()\n",
    "    self.calc_covariance_matrix()\n",
    "  \n",
    "  def calc_mean_returns(self):\n",
    "    self.mean_returns = [np.mean(self.data['Return'][ticker]) for ticker in self.tickers]\n",
    "    \n",
    "  def calc_covariance_matrix(self):\n",
    "    stock_cov_data = [self.data['Return'][ticker][1:] for ticker in self.tickers]\n",
    "    self.cov_matrix = np.cov(stock_cov_data, bias=True)"
   ]
  },
  {
   "cell_type": "code",
   "execution_count": 33,
   "metadata": {},
   "outputs": [],
   "source": [
    "class MVO:\n",
    "  \"\"\"Mean Variance Optimization Class\n",
    "  \n",
    "  Params:\n",
    "   - portfolio: the portfolio to optimize\n",
    "   - market: the market reference\n",
    "   - bounds: constraint on the weight of each stock where 1 == 100% and negative means shorting\n",
    "  \"\"\"\n",
    "  def __init__(self, portfolio: Portfolio, market: Market, bounds: Union[list, None] = None) -> None:\n",
    "    self.portfolio = portfolio\n",
    "    self.market = market\n",
    "    self.bounds = bounds\n",
    "  \n",
    "  def pf_variance(self, weights):\n",
    "    return np.dot(weights.T, np.dot(self.portfolio.cov_matrix, weights))\n",
    "  \n",
    "  def pf_volatility(self, weights):\n",
    "    return np.sqrt(self.pf_variance(weights))\n",
    "  \n",
    "  def pf_return(self, weights):\n",
    "    return np.dot(weights.T, self.portfolio.mean_returns)\n",
    "  \n",
    "  def pf_return_negate(self, weights):\n",
    "    return -np.dot(weights.T, self.portfolio.mean_returns)\n",
    "  \n",
    "  def pf_sharpe(self, weights, risk_free_rate):\n",
    "    return -(self.pf_return(weights) - risk_free_rate) / self.pf_volatility(weights)\n",
    "    \n",
    "  def pf_utility(self, weights, risk_aversion):\n",
    "    return -(self.pf_return(weights) - (1 / 2) * risk_aversion * self.pf_volatility(weights))\n",
    "  \n",
    "  def minimum_variance(self, expected_return=None):\n",
    "    init_guess = np.ones(len(self.portfolio.mean_returns)) / len(self.portfolio.mean_returns)\n",
    "\n",
    "    constraints = [{\"type\": \"eq\", \"fun\": lambda x: np.sum(x) - 1}]\n",
    "    if not (expected_return is None):\n",
    "      constraints.append({\"type\": \"eq\", \"fun\": lambda x: self.pf_return(x) - expected_return})\n",
    "\n",
    "    result = minimize(fun=self.pf_variance,\n",
    "                      x0=init_guess,\n",
    "                      args=(),\n",
    "                      method=\"SLSQP\",\n",
    "                      constraints=constraints,\n",
    "                      bounds=self.bounds)\n",
    "\n",
    "    self.stats = {\n",
    "      \"Weights\": result.x,\n",
    "      \"Returns\": np.sum(self.portfolio.mean_returns * result.x),\n",
    "      \"Volatility\": np.sqrt(result.fun)\n",
    "    }\n",
    "    \n",
    "  def maximum_return(self, expected_volatility):\n",
    "    init_guess = np.ones(len(self.portfolio.mean_returns)) / len(self.portfolio.mean_returns)\n",
    "\n",
    "    constraints = [{\"type\": \"eq\", \"fun\": lambda x: np.sum(x) - 1},\n",
    "                   {\"type\": \"eq\", \"fun\": lambda x: self.pf_volatility(x) - expected_volatility}]\n",
    "\n",
    "    result = minimize(fun=self.pf_return_negate,\n",
    "                      x0=init_guess,\n",
    "                      args=(),\n",
    "                      method=\"SLSQP\",\n",
    "                      constraints=constraints,\n",
    "                      bounds=self.bounds)\n",
    "\n",
    "    self.stats = {\n",
    "      \"Weights\": result.x,\n",
    "      \"Returns\": -result.fun,\n",
    "      \"Volatility\": self.pf_volatility(result.x)\n",
    "    }\n",
    "  \n",
    "  def maximum_sharpe(self):\n",
    "    init_guess = np.ones(len(self.portfolio.mean_returns)) / len(self.portfolio.mean_returns)\n",
    "\n",
    "    constraints = [{\"type\": \"eq\", \"fun\": lambda x: np.sum(x) - 1}]\n",
    "\n",
    "    result = minimize(fun=self.pf_sharpe,\n",
    "                      x0=init_guess,\n",
    "                      args=(self.market.risk_free_rate),\n",
    "                      method=\"SLSQP\",\n",
    "                      constraints=constraints,\n",
    "                      bounds=self.bounds)\n",
    "\n",
    "    self.stats = {\n",
    "      \"Weights\": result.x,\n",
    "      \"Returns\": np.sum(self.portfolio.mean_returns * result.x),\n",
    "      \"Volatility\": self.pf_volatility(result.x),\n",
    "      \"Sharpe\": -result.fun\n",
    "    }\n",
    "    \n",
    "  def maximum_utility(self, risk_aversion=10):\n",
    "    init_guess = np.ones(len(self.portfolio.mean_returns)) / len(self.portfolio.mean_returns)    \n",
    "\n",
    "    constraints = [{\"type\": \"eq\", \"fun\": lambda x: np.sum(x) - 1}]\n",
    "\n",
    "    result = minimize(fun=self.pf_utility,\n",
    "                      x0=init_guess,\n",
    "                      args=(risk_aversion),\n",
    "                      method=\"SLSQP\",\n",
    "                      constraints=constraints,\n",
    "                      bounds=self.bounds)\n",
    "\n",
    "    self.stats = {\n",
    "      \"Weights\": result.x,\n",
    "      \"Returns\": np.sum(self.portfolio.mean_returns * result.x),\n",
    "      \"Volatility\": self.pf_volatility(result.x),\n",
    "      \"Utility\": -result.fun\n",
    "    }\n",
    "    \n",
    "  def plot(self):\n",
    "    market_trace = [1000]\n",
    "    for ret in self.market.data['Return'][1:]:\n",
    "      market_trace.append(market_trace[-1] * (1+ret))\n",
    "\n",
    "    portfolio_trace = self.stock_data[\"Return\"].copy()\n",
    "    portfolio_trace.iloc[0] = self.stats[\"Weights\"]\n",
    "    portfolio_trace.iloc[0] *= 1000\n",
    "\n",
    "    for idx in portfolio_trace.index[1:]:\n",
    "      portfolio_trace.loc[idx] = portfolio_trace.shift(1).loc[idx] * (1+self.stock_data[\"Return\"].loc[idx])\n",
    "      \n",
    "    portfolio_trace['total'] = portfolio_trace.sum(axis=1)\n",
    "    \n",
    "    plt.plot(self.market.data.index, market_trace)\n",
    "    plt.plot(portfolio_trace.index, portfolio_trace.total)\n",
    "    plt.title('S&P Index over xx-xx')\n",
    "    plt.xlabel('Dates')\n",
    "    plt.ylabel('Index Level')\n",
    "    plt.show()\n",
    "    \n",
    "  def plot_MVO(self):\n",
    "    returns = np.linspace(0, 0.005, 51)\n",
    "    vol = []\n",
    "    for ret in returns:\n",
    "      self.minimum_variance(ret)\n",
    "      vol.append(self.stats[\"Volatility\"])\n",
    "    plt.plot(vol, returns)\n",
    "    plt.title('Mean Variance Frontier')\n",
    "    plt.xlabel('Volatility')\n",
    "    plt.ylabel('Return')\n",
    "    plt.show()"
   ]
  },
  {
   "cell_type": "code",
   "execution_count": 15,
   "metadata": {},
   "outputs": [
    {
     "name": "stdout",
     "output_type": "stream",
     "text": [
      "[*********************100%***********************]  1 of 1 completed\n",
      "Market Reference: ^GSPC\n",
      "  Risk-free rate: 0.0004882915114136135\n",
      "  True Volatility: 0.014496710116372588\n",
      "\n"
     ]
    }
   ],
   "source": [
    "index_market = MarketIndex('^GSPC', \"2020-01-01\", \"2023-12-29\")\n",
    "print(index_market)"
   ]
  },
  {
   "cell_type": "code",
   "execution_count": 19,
   "metadata": {},
   "outputs": [
    {
     "name": "stdout",
     "output_type": "stream",
     "text": [
      "Market Reference: Fama-French\n",
      "  Risk-free rate: 0.00012158914577566253\n",
      "  True Volatility: 0\n",
      "\n"
     ]
    }
   ],
   "source": [
    "ff_market = MarketFF(\"2020-01-01\", \"2023-12-29\")\n",
    "print(ff_market)"
   ]
  },
  {
   "cell_type": "code",
   "execution_count": 27,
   "metadata": {},
   "outputs": [
    {
     "name": "stdout",
     "output_type": "stream",
     "text": [
      "[*********************100%***********************]  5 of 5 completed\n",
      "Portfolio Assets: [AAPL, GOOGL, MSFT, NFLX, TSLA]\n",
      "  Average Return: [0.0011931513438000001, 0.0009382902057706153, 0.0010937004626884513, 0.0008849065778596556, 0.003091290908437963]\n"
     ]
    }
   ],
   "source": [
    "portfolio = Portfolio(['aapl', 'googl', 'msft', 'nflx', 'tsla'], \"2020-01-01\", \"2023-12-29\")\n",
    "print(portfolio)"
   ]
  },
  {
   "cell_type": "code",
   "execution_count": 41,
   "metadata": {},
   "outputs": [
    {
     "data": {
      "image/png": "[encoded data removed]",
      "text/plain": [
       "<Figure size 432x288 with 1 Axes>"
      ]
     },
     "metadata": {
      "needs_background": "light"
     },
     "output_type": "display_data"
    }
   ],
   "source": [
    "mvo_idx = MVO(portfolio, index_market, None)\n",
    "mvo_idx.plot_MVO()"
   ]
  },
  {
   "cell_type": "code",
   "execution_count": 42,
   "metadata": {},
   "outputs": [
    {
     "data": {
      "text/plain": [
       "{'Weights': array([ 0.42042559, -0.40757262,  0.27106417, -0.37784636,  1.09392923]),\n",
       " 'Returns': 0.003462967706328976,\n",
       " 'Volatility': 0.04749830063710688,\n",
       " 'Sharpe': 0.06262700254567571}"
      ]
     },
     "execution_count": 42,
     "metadata": {},
     "output_type": "execute_result"
    }
   ],
   "source": [
    "mvo_idx.maximum_sharpe()\n",
    "mvo_idx.stats"
   ]
  },
  {
   "cell_type": "code",
   "execution_count": 43,
   "metadata": {},
   "outputs": [
    {
     "data": {
      "text/plain": [
       "{'Weights': array([0.2, 0.2, 0.2, 0.2, 0.2]),\n",
       " 'Returns': 0.001440267899711337,\n",
       " 'Volatility': 0.02140166062842225}"
      ]
     },
     "execution_count": 43,
     "metadata": {},
     "output_type": "execute_result"
    }
   ],
   "source": [
    "mvo_idx.minimum_variance()\n",
    "mvo_idx.stats"
   ]
  },
  {
   "cell_type": "code",
   "execution_count": 44,
   "metadata": {},
   "outputs": [
    {
     "data": {
      "image/png": "[encoded data removed]",
      "text/plain": [
       "<Figure size 432x288 with 1 Axes>"
      ]
     },
     "metadata": {
      "needs_background": "light"
     },
     "output_type": "display_data"
    }
   ],
   "source": [
    "mvo_ff = MVO(portfolio, ff_market, None)\n",
    "mvo_ff.plot_MVO()"
   ]
  },
  {
   "cell_type": "code",
   "execution_count": 45,
   "metadata": {},
   "outputs": [
    {
     "data": {
      "text/plain": [
       "{'Weights': array([ 0.37353301, -0.10675977,  0.29224501, -0.15669756,  0.59767932]),\n",
       " 'Returns': 0.0023740762006115614,\n",
       " 'Volatility': 0.03106954538447871,\n",
       " 'Sharpe': 0.07249823024321318}"
      ]
     },
     "execution_count": 45,
     "metadata": {},
     "output_type": "execute_result"
    }
   ],
   "source": [
    "mvo_ff.maximum_sharpe()\n",
    "mvo_ff.stats"
   ]
  },
  {
   "cell_type": "code",
   "execution_count": 46,
   "metadata": {},
   "outputs": [
    {
     "data": {
      "text/plain": [
       "{'Weights': array([0.2, 0.2, 0.2, 0.2, 0.2]),\n",
       " 'Returns': 0.001440267899711337,\n",
       " 'Volatility': 0.02140166062842225}"
      ]
     },
     "execution_count": 46,
     "metadata": {},
     "output_type": "execute_result"
    }
   ],
   "source": [
    "mvo_ff.minimum_variance()\n",
    "mvo_ff.stats"
   ]
  }
 ],
 "metadata": {
  "kernelspec": {
   "display_name": "base",
   "language": "python",
   "name": "python3"
  },
  "language_info": {
   "codemirror_mode": {
    "name": "ipython",
    "version": 3
   },
   "file_extension": ".py",
   "mimetype": "text/x-python",
   "name": "python",
   "nbconvert_exporter": "python",
   "pygments_lexer": "ipython3",
   "version": "3.8.8"
  }
 },
 "nbformat": 4,
 "nbformat_minor": 2
}
