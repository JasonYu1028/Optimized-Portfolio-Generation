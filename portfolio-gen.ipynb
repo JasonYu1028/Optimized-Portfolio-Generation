{
 "cells": [
  {
   "cell_type": "markdown",
   "metadata": {},
   "source": [
    "# Portfolio Generator\n",
    "This is a portfolio generator for personal portfolio management"
   ]
  },
  {
   "cell_type": "code",
   "execution_count": 265,
   "metadata": {},
   "outputs": [],
   "source": [
    "import pandas as pd\n",
    "import numpy as np\n",
    "import matplotlib.pyplot as plt\n",
    "import yfinance as yf\n",
    "from scipy.optimize import minimize\n",
    "from typing import Union\n",
    "from sklearn import linear_model, covariance"
   ]
  },
  {
   "cell_type": "code",
   "execution_count": 12,
   "metadata": {},
   "outputs": [],
   "source": [
    "class Market:\n",
    "  \"\"\"Market Class (Abstract)\n",
    "  \n",
    "  Params:\n",
    "   - start: start date to retrieve historical data\n",
    "   - end: end date to retrieve historical data\n",
    "  \"\"\"\n",
    "  def __init__(self, start: str, end: Union[str, None] = None) -> None:\n",
    "    self.start = start\n",
    "    self.end = end\n",
    "  \n",
    "  def retrieve_data(self):\n",
    "    raise NotImplementedError(\"Data retrieval not implemented\")\n",
    "    \n",
    "  def calc_stats(self):\n",
    "    self.calc_risk_free_rate()\n",
    "    self.calc_volatility()\n",
    "    \n",
    "  def calc_risk_free_rate(self):\n",
    "    raise NotImplementedError(\"Rf rate not implemented\")\n",
    "    \n",
    "  def calc_volatility(self):\n",
    "    raise NotImplementedError(\"Market volatility not implemented\")\n",
    "\n",
    "  def __str__(self) -> str:\n",
    "    return f'Market Reference: {self.ticker}\\n  Risk-free rate: {self.risk_free_rate}\\n  True Volatility: {self.volatility}'"
   ]
  },
  {
   "cell_type": "code",
   "execution_count": 13,
   "metadata": {},
   "outputs": [],
   "source": [
    "class MarketIndex(Market):\n",
    "  \"\"\"Index-based Market Class\n",
    "  \n",
    "  Params:\n",
    "   - ticker: index to track\n",
    "   - start: start date to retrieve historical data\n",
    "   - end: end date to retrieve historical data\n",
    "  \"\"\"\n",
    "  def __init__(self, ticker: str,  start: str, end: Union[str, None] = None) -> None:\n",
    "    self.ticker = ticker\n",
    "    Market.__init__(self, start, end)\n",
    "    self.retrieve_data()\n",
    "    self.calc_stats()\n",
    "    \n",
    "  def retrieve_data(self):\n",
    "    self.data = yf.download(self.ticker, start = self.start, end = self.end, auto_adjust=True)\n",
    "    self.data = self.data[['Close']].copy()\n",
    "    self.data.dropna(inplace=True)\n",
    "    self.data['Return'] = self.data['Close'].pct_change()\n",
    "    \n",
    "  def calc_risk_free_rate(self):\n",
    "    self.risk_free_rate = np.mean(self.data['Return'])\n",
    "    \n",
    "  def calc_volatility(self):\n",
    "    self.volatility = np.std(self.data['Return'])"
   ]
  },
  {
   "cell_type": "code",
   "execution_count": 57,
   "metadata": {},
   "outputs": [],
   "source": [
    "class MarketFF(Market):\n",
    "  \"\"\"Fama-French Data-based Market Class\n",
    "  \n",
    "  Params:\n",
    "   - file: csv file from Ken French's Fama-French database\n",
    "   - start: start date to retrieve historical data\n",
    "   - end: end date to retrieve historical data\n",
    "  \"\"\"\n",
    "  def __init__(self, start: str, end: Union[str, None] = None) -> None:\n",
    "    self.ticker = 'Fama-French'\n",
    "    Market.__init__(self, start, end)\n",
    "    self.retrieve_data()\n",
    "    self.calc_stats()\n",
    "    \n",
    "  def retrieve_data(self):\n",
    "    self.data = pd.read_csv('https://mba.tuck.dartmouth.edu/pages/faculty/ken.french/ftp/F-F_Research_Data_Factors_daily_CSV.zip', compression='zip', skiprows=[0,1,2]).dropna()\n",
    "    self.data.columns = ['DATE', 'MKTRF', 'SMB', 'HML', 'RF']\n",
    "    self.data['RF'] = self.data['RF'] / 100\n",
    "    self.data['DATE'] = pd.to_datetime(self.data['DATE'], format='%Y%m%d')\n",
    "    if self.end is None:\n",
    "      self.data = self.data[(self.data['DATE'] >= self.start)]\n",
    "    else:\n",
    "      self.data = self.data[(self.data['DATE'] >= self.start) & (self.data['DATE'] <= self.end)]\n",
    "      \n",
    "  def calc_risk_free_rate(self):\n",
    "    self.risk_free_rate = np.mean(self.data['RF'])\n",
    "    \n",
    "  def calc_volatility(self):\n",
    "    self.volatility = 0"
   ]
  },
  {
   "cell_type": "code",
   "execution_count": 428,
   "metadata": {},
   "outputs": [],
   "source": [
    "class Portfolio:\n",
    "  \"\"\"Portfolio Class\n",
    "  \n",
    "  Params:\n",
    "   - tickers: the list of stocks to generate the portfolio\n",
    "   - start: start date to retrieve historical data\n",
    "   - end: end date to retrieve historical data\n",
    "  \"\"\"\n",
    "  def __init__(self, tickers: list = [], start: str = \"2014-01-01\", end: Union[str, None] = None) -> None:\n",
    "    if len(tickers) <= 1:\n",
    "      raise Exception(\"Tickers must be a list of at least 2 assets\")\n",
    "    self.tickers = [ticker.upper() for ticker in tickers]\n",
    "    self.tickers.sort()\n",
    "    self.start = start\n",
    "    self.end = end\n",
    "    self.retrieve_data()\n",
    "    self.calc_stats()\n",
    "    \n",
    "  def __str__(self) -> str:\n",
    "    return f'Portfolio Assets: {self.tickers}\\n  Average Return: {self.mean_returns}\\n  Expected Return: {self.expected_returns}'\n",
    "    \n",
    "  def retrieve_data(self):\n",
    "    self.data = yf.download(self.tickers, start = self.start, end = self.end, auto_adjust=True)\n",
    "    self.data = self.data[['Close']]\n",
    "    \n",
    "    returns = self.data[['Close']].pct_change()\n",
    "    returns.columns = returns.columns.set_levels(['Return'], level=0)\n",
    "    self.data = pd.concat([self.data, returns], axis=1)\n",
    "  \n",
    "  def calc_stats(self):\n",
    "    self.calc_mean_returns()\n",
    "    self.calc_expected_returns()\n",
    "    self.calc_covariance_matrix()\n",
    "  \n",
    "  def calc_mean_returns(self):\n",
    "    self.mean_returns = [np.mean(self.data['Return'][ticker]) for ticker in self.tickers]\n",
    "    \n",
    "  def calc_expected_returns(self):\n",
    "    \"\"\"Uses the Fama-French 3 Factor Model\"\"\"\n",
    "    returns = self.data['Return'].reset_index().melt(id_vars=[\"Date\"], var_name=\"ASSET\", value_name=\"RET\").dropna()\n",
    "    returns.columns = ['DATE', 'ASSET', 'RET']\n",
    "    \n",
    "    ff3 = pd.read_csv('https://mba.tuck.dartmouth.edu/pages/faculty/ken.french/ftp/F-F_Research_Data_Factors_daily_CSV.zip', compression='zip', skiprows=[0,1,2]).dropna()\n",
    "    ff3.columns = ['DATE', 'MKTRF', 'SMB', 'HML', 'RF']\n",
    "    ff3['RF'] = ff3['RF'] / 100\n",
    "    ff3['DATE'] = pd.to_datetime(ff3['DATE'], format='%Y%m%d')\n",
    "    \n",
    "    merged = pd.merge(returns, ff3, on=\"DATE\")\n",
    "    merged[\"XRET\"] = merged[\"RET\"] - merged[\"RF\"]\n",
    "    grouped = merged.groupby([\"ASSET\"])\n",
    "\n",
    "    beta = {'ASSET':[], 'ff3_alpha':[], 'ff3_beta':[], 'smb_beta':[], 'hml_beta':[]}\n",
    "    ret = {'ASSET': [], 'DATE': [], 'FF3_RET': []}\n",
    "\n",
    "    for name, group in grouped:\n",
    "        ff3model = linear_model.LinearRegression().fit(group[[\"MKTRF\", \"SMB\", \"HML\"]], group[\"XRET\"])\n",
    "        \n",
    "        beta['ASSET'].append(name)\n",
    "        beta['ff3_alpha'].append(ff3model.intercept_)\n",
    "        beta['ff3_beta'].append(ff3model.coef_[0])\n",
    "        beta['smb_beta'].append(ff3model.coef_[1])\n",
    "        beta['hml_beta'].append(ff3model.coef_[2])\n",
    "        \n",
    "        ret['ASSET'].extend([name] * len(group))\n",
    "        ret['DATE'].extend(group[\"DATE\"])\n",
    "        ret['FF3_RET'].extend(ff3model.predict(group[[\"MKTRF\", \"SMB\", \"HML\"]]) + group[\"RF\"])\n",
    "        \n",
    "    self.beta = pd.DataFrame(beta)\n",
    "    self.beta['ERET'] = self.beta['ff3_alpha'] + self.beta['ff3_beta'] * np.mean(merged['MKTRF']) + self.beta['smb_beta'] * np.mean(merged['SMB']) + self.beta['hml_beta'] * np.mean(merged['HML'])\n",
    "    self.expected_returns = self.beta['ERET'].to_list()\n",
    "    \n",
    "  def calc_covariance_matrix(self):\n",
    "    \"\"\"Calculates the covariance matrix using OAS shrinkage\"\"\"\n",
    "    weekly_returns = self.data['Return'].resample('1W').mean().applymap(lambda x: (x + 1)**7 - 1).fillna(0)\n",
    "    # monthly_returns = self.data['Return'].resample('1M').mean().applymap(lambda x: (x + 1)**30 - 1)\n",
    "    self.cov_matrix = covariance.oas(weekly_returns)[0]"
   ]
  },
  {
   "cell_type": "code",
   "execution_count": 334,
   "metadata": {},
   "outputs": [],
   "source": [
    "class MVO:\n",
    "  \"\"\"Mean Variance Optimization Class\n",
    "  \n",
    "  Params:\n",
    "   - portfolio: the portfolio to optimize\n",
    "   - market: the market reference\n",
    "   - bounds: constraint on the weight of each stock where 1 == 100% and negative means shorting\n",
    "  \"\"\"\n",
    "  def __init__(self, portfolio: Portfolio, market: Market, bounds: Union[list, None] = None) -> None:\n",
    "    self.portfolio = portfolio\n",
    "    self.market = market\n",
    "    self.bounds = bounds\n",
    "  \n",
    "  def pf_variance(self, weights):\n",
    "    return np.dot(weights.T, np.dot(self.portfolio.cov_matrix, weights))\n",
    "  \n",
    "  def pf_volatility(self, weights):\n",
    "    return np.sqrt(self.pf_variance(weights))\n",
    "  \n",
    "  def pf_return(self, weights):\n",
    "    return np.dot(weights.T, self.portfolio.expected_returns)\n",
    "  \n",
    "  def pf_return_negate(self, weights):\n",
    "    return -np.dot(weights.T, self.portfolio.expected_returns)\n",
    "  \n",
    "  def pf_sharpe(self, weights, risk_free_rate):\n",
    "    return -(self.pf_return(weights) - risk_free_rate) / self.pf_volatility(weights)\n",
    "    \n",
    "  def pf_utility(self, weights, risk_aversion):\n",
    "    return -(self.pf_return(weights) - (1 / 2) * risk_aversion * self.pf_volatility(weights))\n",
    "  \n",
    "  def minimum_variance(self, expected_return=None):\n",
    "    init_guess = np.ones(len(self.portfolio.tickers)) / len(self.portfolio.tickers)\n",
    "\n",
    "    constraints = [{\"type\": \"eq\", \"fun\": lambda x: np.sum(x) - 1}]\n",
    "    if not (expected_return is None):\n",
    "      constraints.append({\"type\": \"eq\", \"fun\": lambda x: self.pf_return(x) - expected_return})\n",
    "\n",
    "    result = minimize(fun=self.pf_variance,\n",
    "                      x0=init_guess,\n",
    "                      args=(),\n",
    "                      method=\"SLSQP\",\n",
    "                      constraints=constraints,\n",
    "                      bounds=self.bounds)\n",
    "\n",
    "    self.stats = {\n",
    "      \"Weights\": result.x,\n",
    "      \"Returns\": np.sum(self.portfolio.expected_returns * result.x),\n",
    "      \"Volatility\": np.sqrt(result.fun)\n",
    "    }\n",
    "    \n",
    "  def maximum_return(self, expected_volatility):\n",
    "    init_guess = np.ones(len(self.portfolio.tickers)) / len(self.portfolio.tickers)\n",
    "\n",
    "    constraints = [{\"type\": \"eq\", \"fun\": lambda x: np.sum(x) - 1},\n",
    "                   {\"type\": \"eq\", \"fun\": lambda x: self.pf_volatility(x) - expected_volatility}]\n",
    "\n",
    "    result = minimize(fun=self.pf_return_negate,\n",
    "                      x0=init_guess,\n",
    "                      args=(),\n",
    "                      method=\"SLSQP\",\n",
    "                      constraints=constraints,\n",
    "                      bounds=self.bounds)\n",
    "\n",
    "    self.stats = {\n",
    "      \"Weights\": result.x,\n",
    "      \"Returns\": -result.fun,\n",
    "      \"Volatility\": self.pf_volatility(result.x)\n",
    "    }\n",
    "  \n",
    "  def maximum_sharpe(self):\n",
    "    init_guess = np.ones(len(self.portfolio.tickers)) / len(self.portfolio.tickers)\n",
    "\n",
    "    constraints = [{\"type\": \"eq\", \"fun\": lambda x: np.sum(x) - 1}]\n",
    "\n",
    "    result = minimize(fun=self.pf_sharpe,\n",
    "                      x0=init_guess,\n",
    "                      args=(self.market.risk_free_rate),\n",
    "                      method=\"SLSQP\",\n",
    "                      constraints=constraints,\n",
    "                      bounds=self.bounds)\n",
    "\n",
    "    self.stats = {\n",
    "      \"Weights\": result.x,\n",
    "      \"Returns\": np.sum(self.portfolio.expected_returns * result.x),\n",
    "      \"Volatility\": self.pf_volatility(result.x),\n",
    "      \"Sharpe\": -result.fun\n",
    "    }\n",
    "    \n",
    "  def maximum_utility(self, risk_aversion=10):\n",
    "    init_guess = np.ones(len(self.portfolio.tickers)) / len(self.portfolio.tickers)    \n",
    "\n",
    "    constraints = [{\"type\": \"eq\", \"fun\": lambda x: np.sum(x) - 1}]\n",
    "\n",
    "    result = minimize(fun=self.pf_utility,\n",
    "                      x0=init_guess,\n",
    "                      args=(risk_aversion),\n",
    "                      method=\"SLSQP\",\n",
    "                      constraints=constraints,\n",
    "                      bounds=self.bounds)\n",
    "\n",
    "    self.stats = {\n",
    "      \"Weights\": result.x,\n",
    "      \"Returns\": np.sum(self.portfolio.expected_returns * result.x),\n",
    "      \"Volatility\": self.pf_volatility(result.x),\n",
    "      \"Utility\": -result.fun\n",
    "    }\n",
    "    \n",
    "  def plot_MVO(self):\n",
    "    self.minimum_variance()\n",
    "    returns = np.linspace(self.stats['Returns'] - 0.001, self.stats['Returns'] + 0.002, 51)\n",
    "    vol = []\n",
    "    for ret in returns:\n",
    "      self.minimum_variance(ret)\n",
    "      vol.append(self.stats[\"Volatility\"])\n",
    "    plt.plot(vol, returns)\n",
    "    plt.title('Mean Variance Frontier')\n",
    "    plt.xlabel('Volatility')\n",
    "    plt.ylabel('Return')\n",
    "    plt.show()"
   ]
  },
  {
   "cell_type": "code",
   "execution_count": 335,
   "metadata": {},
   "outputs": [
    {
     "name": "stdout",
     "output_type": "stream",
     "text": [
      "[*********************100%***********************]  1 of 1 completed\n",
      "Market Reference: ^GSPC\n",
      "  Risk-free rate: 0.0004882915114136135\n",
      "  True Volatility: 0.014496710116372588\n",
      "\n",
      "Market Reference: Fama-French\n",
      "  Risk-free rate: 0.0001238323353293416\n",
      "  True Volatility: 0\n",
      "\n",
      "[*********************100%***********************]  5 of 5 completed\n",
      "Portfolio Assets: ['AAPL', 'GOOGL', 'MSFT', 'NFLX', 'TSLA']\n",
      "  Average Return: [0.0011931514923494496, 0.0009382902057706153, 0.0010937006451560674, 0.0008849065778596556, 0.003091290908437963]\n",
      "  Expected Return: [0.0011277032851781362, 0.0008728419985993014, 0.001028252437984754, 0.0008194583706883415, 0.0030258427012666445]\n"
     ]
    },
    {
     "data": {
      "image/png": "[encoded data removed]",
      "text/plain": [
       "<Figure size 432x288 with 1 Axes>"
      ]
     },
     "metadata": {
      "needs_background": "light"
     },
     "output_type": "display_data"
    },
    {
     "data": {
      "image/png": "[encoded data removed]",
      "text/plain": [
       "<Figure size 432x288 with 1 Axes>"
      ]
     },
     "metadata": {
      "needs_background": "light"
     },
     "output_type": "display_data"
    }
   ],
   "source": [
    "# Example Usage\n",
    "index_market = MarketIndex('^GSPC', \"2020-01-01\", \"2023-12-29\")\n",
    "print(index_market)\n",
    "ff_market = MarketFF(\"2022-01-01\", \"2023-12-29\")\n",
    "print(ff_market)\n",
    "portfolio = Portfolio(['aapl', 'googl', 'msft', 'nflx', 'tsla'], \"2020-01-01\", \"2023-12-29\")\n",
    "print(portfolio)\n",
    "mvo_idx = MVO(portfolio, index_market, None)\n",
    "mvo_idx.plot_MVO()\n",
    "mvo_ff = MVO(portfolio, ff_market, [[0,1]] * len(portfolio.tickers))\n",
    "mvo_ff.plot_MVO()"
   ]
  },
  {
   "cell_type": "code",
   "execution_count": 336,
   "metadata": {},
   "outputs": [
    {
     "data": {
      "text/plain": [
       "{'Weights': array([ 0.52080921, -0.36518987,  0.40290179, -0.49361755,  0.93509643]),\n",
       " 'Returns': 0.00310780560993526,\n",
       " 'Volatility': 0.14019617255532987,\n",
       " 'Sharpe': 0.018684633473055965}"
      ]
     },
     "execution_count": 336,
     "metadata": {},
     "output_type": "execute_result"
    }
   ],
   "source": [
    "mvo_idx.maximum_sharpe()\n",
    "mvo_idx.stats"
   ]
  },
  {
   "cell_type": "code",
   "execution_count": 337,
   "metadata": {},
   "outputs": [
    {
     "data": {
      "text/plain": [
       "{'Weights': array([ 0.34007937,  0.27992277,  0.39615912,  0.07023412, -0.08639539]),\n",
       " 'Returns': 0.0008313236466197796,\n",
       " 'Volatility': 0.052124480811407525}"
      ]
     },
     "execution_count": 337,
     "metadata": {},
     "output_type": "execute_result"
    }
   ],
   "source": [
    "mvo_idx.minimum_variance()\n",
    "mvo_idx.stats"
   ]
  },
  {
   "cell_type": "code",
   "execution_count": 338,
   "metadata": {},
   "outputs": [
    {
     "data": {
      "text/plain": [
       "{'Weights': array([3.19057853e-01, 3.98986399e-17, 3.06211593e-01, 6.50521303e-18,\n",
       "        3.74730554e-01]),\n",
       " 'Returns': 0.0018085411177814995,\n",
       " 'Volatility': 0.07712267763838027,\n",
       " 'Sharpe': 0.021844531777690235}"
      ]
     },
     "execution_count": 338,
     "metadata": {},
     "output_type": "execute_result"
    }
   ],
   "source": [
    "mvo_ff.maximum_sharpe()\n",
    "mvo_ff.stats"
   ]
  },
  {
   "cell_type": "code",
   "execution_count": 339,
   "metadata": {},
   "outputs": [
    {
     "data": {
      "text/plain": [
       "{'Weights': array([3.13634742e-01, 2.65454847e-01, 3.69966720e-01, 5.09436919e-02,\n",
       "        4.60785923e-19]),\n",
       " 'Returns': 0.0010075524838235727,\n",
       " 'Volatility': 0.05320545603755546}"
      ]
     },
     "execution_count": 339,
     "metadata": {},
     "output_type": "execute_result"
    }
   ],
   "source": [
    "mvo_ff.minimum_variance()\n",
    "mvo_ff.stats"
   ]
  },
  {
   "cell_type": "markdown",
   "metadata": {},
   "source": [
    "## Testing"
   ]
  },
  {
   "cell_type": "code",
   "execution_count": 340,
   "metadata": {},
   "outputs": [],
   "source": [
    "def plotReturns(portfolio: Portfolio, reference: MarketIndex, weights: list):\n",
    "  market_trace = [1000]\n",
    "  for ret in reference.data['Return'][1:]:\n",
    "    market_trace.append(market_trace[-1] * (1+ret))\n",
    "\n",
    "  portfolio_trace = portfolio.data[\"Return\"].copy()\n",
    "  portfolio_trace.iloc[0] = weights\n",
    "  portfolio_trace.iloc[0] *= 1000\n",
    "\n",
    "  for idx in portfolio_trace.index[1:]:\n",
    "    portfolio_trace.loc[idx] = portfolio_trace.shift(1).loc[idx] * (1+portfolio.data[\"Return\"].loc[idx])\n",
    "    \n",
    "  portfolio_trace['total'] = portfolio_trace.sum(axis=1)\n",
    "  \n",
    "  plt.plot(reference.data.index, market_trace, label=\"Index\")\n",
    "  plt.plot(portfolio_trace.index, portfolio_trace['total'], label=\"Portfolio\")\n",
    "  plt.title(f'{reference.ticker} Index vs Optimized Portfolio from {portfolio.start} to {portfolio.end}')\n",
    "  plt.legend(loc='best')\n",
    "  plt.xlabel('Dates')\n",
    "  plt.ylabel('Returns')\n",
    "  plt.show()"
   ]
  },
  {
   "cell_type": "code",
   "execution_count": 463,
   "metadata": {},
   "outputs": [],
   "source": [
    "nasdaq100 = open('nasdaq100.txt', 'r').read().split('\\n')\n",
    "dj30 = open('dj30.txt', 'r').read().split('\\n')\n",
    "train_data = nasdaq100\n",
    "train_data.remove('GEHC')\n",
    "train_data.remove('CEG')\n",
    "train_data.remove('GFS')"
   ]
  },
  {
   "cell_type": "code",
   "execution_count": 464,
   "metadata": {},
   "outputs": [
    {
     "name": "stdout",
     "output_type": "stream",
     "text": [
      "Market Reference: Fama-French\n",
      "  Risk-free rate: 6.19973494888313e-05\n",
      "  True Volatility: 0\n",
      "\n",
      "[*********************100%***********************]  98 of 98 completed\n",
      "Portfolio Assets: ['AAPL', 'ABNB', 'ADBE', 'ADI', 'ADP', 'ADSK', 'AEP', 'AMAT', 'AMD', 'AMGN', 'AMZN', 'ANSS', 'ASML', 'AVGO', 'AZN', 'BIIB', 'BKNG', 'BKR', 'CCEP', 'CDNS', 'CDW', 'CHTR', 'CMCSA', 'COST', 'CPRT', 'CRWD', 'CSCO', 'CSGP', 'CSX', 'CTAS', 'CTSH', 'DASH', 'DDOG', 'DLTR', 'DXCM', 'EA', 'EXC', 'FANG', 'FAST', 'FTNT', 'GILD', 'GOOG', 'GOOGL', 'HON', 'IDXX', 'ILMN', 'INTC', 'INTU', 'ISRG', 'KDP', 'KHC', 'KLAC', 'LRCX', 'LULU', 'MAR', 'MCHP', 'MDB', 'MDLZ', 'MELI', 'META', 'MNST', 'MRNA', 'MRVL', 'MSFT', 'MU', 'NFLX', 'NVDA', 'NXPI', 'ODFL', 'ON', 'ORLY', 'PANW', 'PAYX', 'PCAR', 'PDD', 'PEP', 'PYPL', 'QCOM', 'REGN', 'ROP', 'ROST', 'SBUX', 'SIRI', 'SNPS', 'SPLK', 'TEAM', 'TMUS', 'TSLA', 'TTD', 'TTWO', 'TXN', 'VRSK', 'VRTX', 'WBA', 'WBD', 'WDAY', 'XEL', 'ZS']\n",
      "  Average Return: [0.001302185332245689, 0.00407074431631776, 0.0010256793359606756, 0.0006496219466609833, 0.0004897094768151049, 0.001035369725231933, 0.0004835254780124548, 0.000621260062184897, 0.0011352707668922898, 0.00048536017546572865, 0.0012015762144178008, 0.0012088128641470962, 0.0009651515534505315, 0.0014859481445324211, 0.00046478758802597674, 0.0008477618104720391, 0.0011429207529558383, 0.0004766749402718707, 0.0005639202865839448, 0.0006903094907028171, 0.0012439822404115657, 0.0012117477411861574, 0.00048522580818286654, 0.0006228836328559573, 0.0009351876856941981, 0.004329005451837272, 0.00031328643122084893, 0.0009864664894854813, 0.0008407556505092826, 0.0006816418950315693, 0.0010989296796953764, -0.019624847789635674, 0.003966039094228786, 0.0007484658991159279, 0.0015067697320718702, 0.0006775388110582295, 0.0004603911633305742, 0.0010447818541927357, 0.0008558256296950616, 0.0013617487003500638, 0.0010241939698868094, 0.0010512853304801182, 0.0010493856133776854, 0.0005442282322379584, 0.0011255894025078285, 0.0012569453640035953, 0.0003861950464371627, 0.0008231397358528207, 0.0014579973048127147, 0.00087279794191474, -0.00017138948964900915, 0.0008253604971722746, 0.0010015737076098652, 0.0014900161840806895, 0.0006917747419874737, 0.0008271984108610158, 0.003722802025055183, 0.0004018508282113064, 0.0018342034551043014, 0.001189766048301417, 0.001744002807383937, 0.0048181467126366855, 0.0008605267285709743, 0.0005311356933542851, 0.0007716204645476537, 0.001954526234532856, 0.0016651506797916815, 0.0013161633961427945, 0.0013550672629643501, 0.0008211376272219164, 0.0009399547041394411, 0.0011978166658974158, 0.0005318401251119468, 0.0008034819298496045, 0.0037654253957935466, 0.0004413520164977438, 0.0015792815431174816, 0.0005278622008856922, 0.0014428901535049608, 0.0008148686295743542, 0.0010404550642574705, 0.0009302492032026086, 0.0007412715222935853, 0.0006256738804131952, 0.0011583268583423563, 0.0022870443489684056, 0.0007142907001972273, 0.0024941569995167857, 0.0040052773217112946, 0.0011115937281620072, 0.0005864432296505891, 0.0008190358633524853, 0.0011120862961358185, 0.00029108878318445246, 0.0005881636543864983, 0.0010804669280627531, 0.0005543687546718741, 0.0033580820152415533]\n",
      "  Expected Return: [0.0013201293418621826, -5.5222471789335654e-05, 0.001059948552746023, 0.0006716608743379566, 0.0004635810963594474, 0.0010378566640202916, 0.00044361755088948316, 0.0006446164777176873, 0.0011611466564522234, 0.00048826929962010623, 0.0012348948590418496, 0.001191563151028774, 0.0009945173312619193, 0.0010789946976733236, 0.00043652788593336186, 0.0008667559006185205, 0.0011536159290066901, 0.00042559008455103045, 0.0005202311632304436, 0.0006888157566265753, 0.0010020855955383025, 0.0009376083945976862, 0.00046135108843786986, 0.0006066897910968921, 0.0009053882983199741, 0.0023034929973168444, 0.00033677037254425615, 0.0009672416656842229, 0.0008030761142208229, 0.000661660245806479, 0.001094039895291449, -0.019518948639746198, 0.0017122949340166085, 0.0007310439853075183, 0.0013365498683459676, 0.000685848577284491, 0.0004167899969213927, 0.001075636636345563, 0.0008340779825891671, 0.0009000678300720167, 0.0010293958560100935, 0.0008547759854153971, 0.0008523507162300784, 0.0005208102642660725, 0.0011149529915817945, 0.0012457077689755195, 0.00040441317495792874, 0.0008390563267017694, 0.0014381359558644999, 0.0007416645080642689, -0.000374458912142524, 0.0008539317874157273, 0.0010305212819164663, 0.0013493787996620716, 0.0006474311176001044, 0.0008426460742999986, 0.002352351250994981, 0.00033726673600387164, 0.0015530766553911019, 0.0007067931319339925, 0.0017093758990544962, 0.003974024555348604, 0.000873306718149007, 0.0005445148079531913, 0.0007808039113045761, 0.0017820781573946217, 0.001710121951159217, 0.0009642994189794239, 0.0013070560087958937, 0.000805674394278437, 0.0009163540552156604, 0.0007963852537319758, 0.000516193515818092, 0.0007776067463481566, 0.002799253624578494, 0.0004051281646825465, 0.0009830368693309847, 0.0005489440944129617, 0.0014619834530940933, 0.0007893844142881562, 0.0010054354450174656, 0.0009089990207156788, 0.0007270170675206786, 0.000628009993869293, 0.0006203770796823534, 0.0015667583782386252, 0.0005791010794906851, 0.001967274150234185, 0.002945440405578554, 0.001108439347872079, 0.0006041949812662457, 0.0005468394805463521, 0.0011392752252386356, 0.0002510818863782763, 0.0005111496319831538, 0.000557449093600806, 0.0005157165457965267, 0.0020070433480936247]\n"
     ]
    }
   ],
   "source": [
    "train_start, train_end = [\"2000-01-01\", \"2020-12-29\"]\n",
    "market_train = MarketFF(train_start, train_end)\n",
    "print(market_train)\n",
    "portfolio_train = Portfolio(train_data, train_start, train_end)\n",
    "print(portfolio_train)"
   ]
  },
  {
   "cell_type": "code",
   "execution_count": 465,
   "metadata": {},
   "outputs": [
    {
     "name": "stdout",
     "output_type": "stream",
     "text": [
      "[*********************100%***********************]  1 of 1 completed\n",
      "Market Reference: ^NDX\n",
      "  Risk-free rate: 0.0018189935087631396\n",
      "  True Volatility: 0.011302842429616385\n",
      "\n",
      "[*********************100%***********************]  98 of 98 completed\n",
      "Portfolio Assets: ['AAPL', 'ABNB', 'ADBE', 'ADI', 'ADP', 'ADSK', 'AEP', 'AMAT', 'AMD', 'AMGN', 'AMZN', 'ANSS', 'ASML', 'AVGO', 'AZN', 'BIIB', 'BKNG', 'BKR', 'CCEP', 'CDNS', 'CDW', 'CHTR', 'CMCSA', 'COST', 'CPRT', 'CRWD', 'CSCO', 'CSGP', 'CSX', 'CTAS', 'CTSH', 'DASH', 'DDOG', 'DLTR', 'DXCM', 'EA', 'EXC', 'FANG', 'FAST', 'FTNT', 'GILD', 'GOOG', 'GOOGL', 'HON', 'IDXX', 'ILMN', 'INTC', 'INTU', 'ISRG', 'KDP', 'KHC', 'KLAC', 'LRCX', 'LULU', 'MAR', 'MCHP', 'MDB', 'MDLZ', 'MELI', 'META', 'MNST', 'MRNA', 'MRVL', 'MSFT', 'MU', 'NFLX', 'NVDA', 'NXPI', 'ODFL', 'ON', 'ORLY', 'PANW', 'PAYX', 'PCAR', 'PDD', 'PEP', 'PYPL', 'QCOM', 'REGN', 'ROP', 'ROST', 'SBUX', 'SIRI', 'SNPS', 'SPLK', 'TEAM', 'TMUS', 'TSLA', 'TTD', 'TTWO', 'TXN', 'VRSK', 'VRTX', 'WBA', 'WBD', 'WDAY', 'XEL', 'ZS']\n",
      "  Average Return: [0.0014252443225757202, 0.0023957959429533006, 0.0019402869984770676, 0.000749082893409624, 0.0004164202745760442, 0.0013344908171205132, -0.0002249224553930057, 0.002776002936668116, 0.0040077719373247086, 0.0005872952207292431, 0.0027045068703408365, 0.001447039628018389, 0.00209757166519633, 0.003261334814662405, 4.315772085411373e-05, -0.0005941904230321519, 0.0020491299153448206, 0.0003905940288050785, 0.0009787466866947178, 0.0024045572300137787, 0.0012841758365006234, -0.00020648889157983834, 0.0007840369186354369, 0.0018822372664556103, 0.001891258616638114, 0.004223679555102377, 0.00027909699353094675, 0.00045506107489320724, 0.0008836136776236343, 0.0013136936492299798, 0.0013227252183528255, 0.003612624775796673, 0.002668184101441738, 0.0003169112031560543, 0.0003482734677634612, 0.0006240894953513355, -0.00040552818863963305, 0.0013921262735607787, 0.0016957037565006852, 0.001498298961736832, -0.000287741532596183, 0.0018676311308030344, 0.001856746604575474, -8.914033434891839e-05, 0.00141517086775175, -0.0010174848509427418, 0.0020533565990116156, 0.0020224068566046774, 0.0015102226307198363, -0.0003970931419062543, -0.000208664054721135, 0.0022961485276729136, 0.0031177705668084367, 0.0014122283352625425, 0.0020186746347179343, 0.0009309017643154705, 0.0036698730476273996, 0.0005257998157213736, 0.0026881265242177815, 0.005093055886664467, 0.00038833535803405804, -0.0016986314681130244, 0.002763094785089653, 0.0020375672103429446, 0.0021450657066618807, 0.0026606989816934765, 0.006443963460745669, 0.0017808854061510612, 0.001769436301355718, 0.0011702772053340505, 0.0008854806762197296, 0.002945753812959764, 0.00047593994394566153, 0.0021055552186710165, 0.0020258025355027022, -5.1139728012121805e-05, -0.0005112998498962556, 0.0015734168488640878, 0.0011886294164714973, 0.0009442099643576151, 0.0009790238160407346, 4.841811469495124e-06, 0.00014208615955553242, 0.0022217830626801885, 0.0022760026076393703, 0.002223653984463803, 0.0006632669322620108, 0.002546633050404447, 0.0027550286455013703, 0.0014950111947936299, 0.0002576150040202411, 0.0012268248270026808, 0.0015438264256425456, -0.0013636989117480024, 0.0002089625973603917, 0.00225328750908434, -0.0003893670688453698, 0.00318035938368854]\n",
      "  Expected Return: [0.0016434010983316612, 0.00206089715393758, 0.0023064595678161546, 0.0008261688182924935, -9.323070303489282e-05, 0.0011047061510369876, -0.0005692133589292849, 0.0021461070778089134, 0.003593513234335143, 0.00041589726256855797, 0.002319968293582959, 0.001698689712120299, 0.0013249636393750654, 0.0029208948326421786, -0.000127471761003114, -0.0003061882657492777, 0.002170253779560288, 0.0007466172583457261, 0.0008173445061308844, 0.0021040932242453684, 0.0009245528961090365, 0.0005260425667093142, 0.0008475466930998061, 0.001511507790212454, 0.0017755858327649903, 0.003792650114929106, 0.0002238454055973105, 0.00043069906294580405, 0.00041568104041276915, 0.0011041149845586375, 0.001077456905560407, 0.0030649778635186815, 0.002565668825865806, 4.945238061404344e-05, 0.00044459047515314315, 0.0003520126042401527, -0.0006945761608580554, 0.0008577679654408462, 0.0012798847041716873, 0.0009122127876793928, -0.00016957037486479875, 0.0018102457665917723, 0.0017981862112783301, -0.00012402208276244398, 0.001251466590131907, -0.001219645405095524, 0.0027310632369390705, 0.0018911685322690252, 0.0009331021011285259, -0.00028804868693177313, -0.0003458421592575498, 0.001832811190893998, 0.002668033077961887, 0.0018556538177562424, 0.0016649100555602744, 0.0011719919868039281, 0.0035495136836267063, 0.0003199626302608477, 0.002699271216016572, 0.004301640915190599, 0.0004118594700085238, -0.0021447539769366545, 0.002463225445437409, 0.001780134571613992, 0.002212240648507103, 0.0020959802710660337, 0.005250272693728276, 0.0016715028835724895, 0.0014884431542776945, 0.001473164465332712, 0.00037996319018884675, 0.003134652443203317, 0.00013959537684403228, 0.0016995582420225057, 0.002639369562450032, -0.00025314727546120637, -0.0007041868176626777, 0.001313107781519273, 0.0007202563001007808, 0.0007921832783380639, 0.00065682956001073, -0.00020343891920344552, 0.0004911864450521138, 0.0018720902353338105, 0.0023390119268781326, 0.002890933381689337, 0.0004687866452456688, 0.0037011964818296893, 0.002374144998258598, 0.001758238520511848, 0.00022088825229612535, 0.0011081910735641378, 0.0013468773006085036, -0.0011087491812706552, 0.0011080777312166023, 0.001970512389622399, -0.0004767476613272148, 0.0031268803742450623]\n"
     ]
    }
   ],
   "source": [
    "test_start, test_end = [\"2023-01-01\", \"2024-02-29\"]\n",
    "market_test = MarketIndex('^NDX', test_start, test_end)\n",
    "print(market_test)\n",
    "portfolio_test = Portfolio(train_data, test_start, test_end)\n",
    "print(portfolio_test)"
   ]
  },
  {
   "cell_type": "code",
   "execution_count": 466,
   "metadata": {},
   "outputs": [
    {
     "data": {
      "text/plain": [
       "{'Weights': array([2.92706538e-02, 0.00000000e+00, 7.21096089e-17, 2.47857087e-16,\n",
       "        0.00000000e+00, 0.00000000e+00, 0.00000000e+00, 0.00000000e+00,\n",
       "        0.00000000e+00, 0.00000000e+00, 0.00000000e+00, 1.89286453e-16,\n",
       "        0.00000000e+00, 6.88917484e-03, 0.00000000e+00, 0.00000000e+00,\n",
       "        7.63430795e-17, 0.00000000e+00, 0.00000000e+00, 0.00000000e+00,\n",
       "        9.55533152e-02, 1.37315825e-02, 0.00000000e+00, 0.00000000e+00,\n",
       "        1.00527564e-16, 1.80165252e-01, 0.00000000e+00, 0.00000000e+00,\n",
       "        0.00000000e+00, 0.00000000e+00, 0.00000000e+00, 0.00000000e+00,\n",
       "        6.23045462e-02, 0.00000000e+00, 2.97842195e-16, 0.00000000e+00,\n",
       "        0.00000000e+00, 2.49053097e-16, 0.00000000e+00, 2.36389955e-16,\n",
       "        5.03561418e-03, 1.76653803e-16, 8.14151128e-17, 0.00000000e+00,\n",
       "        1.60386281e-03, 4.42744122e-17, 0.00000000e+00, 0.00000000e+00,\n",
       "        1.32958762e-16, 1.94621066e-16, 0.00000000e+00, 0.00000000e+00,\n",
       "        0.00000000e+00, 4.19435469e-16, 0.00000000e+00, 0.00000000e+00,\n",
       "        9.00612624e-02, 0.00000000e+00, 4.19814940e-16, 2.73510327e-16,\n",
       "        3.64213793e-02, 2.04406426e-01, 0.00000000e+00, 0.00000000e+00,\n",
       "        0.00000000e+00, 1.15376431e-02, 1.23695609e-16, 2.10562226e-16,\n",
       "        4.38306830e-03, 0.00000000e+00, 1.39575783e-16, 3.71286728e-16,\n",
       "        0.00000000e+00, 0.00000000e+00, 1.75929667e-01, 0.00000000e+00,\n",
       "        2.64525001e-16, 0.00000000e+00, 1.54515750e-16, 0.00000000e+00,\n",
       "        6.07796632e-03, 0.00000000e+00, 0.00000000e+00, 0.00000000e+00,\n",
       "        0.00000000e+00, 2.01247612e-02, 0.00000000e+00, 3.19758326e-16,\n",
       "        1.13213727e-02, 3.49672141e-17, 0.00000000e+00, 2.28663597e-03,\n",
       "        0.00000000e+00, 0.00000000e+00, 0.00000000e+00, 0.00000000e+00,\n",
       "        3.56153663e-02, 7.28044974e-03]),\n",
       " 'Returns': 0.0023937763743809744,\n",
       " 'Volatility': 0.026569947299744764,\n",
       " 'Sharpe': 0.08776001693140514}"
      ]
     },
     "execution_count": 466,
     "metadata": {},
     "output_type": "execute_result"
    }
   ],
   "source": [
    "mvo_train = MVO(portfolio_train, market_train, [[0,1]] * len(train_data))\n",
    "mvo_train.maximum_sharpe()\n",
    "mvo_train.stats"
   ]
  },
  {
   "cell_type": "code",
   "execution_count": 467,
   "metadata": {},
   "outputs": [
    {
     "data": {
      "image/png": "[encoded data removed]",
      "text/plain": [
       "<Figure size 432x288 with 1 Axes>"
      ]
     },
     "metadata": {
      "needs_background": "light"
     },
     "output_type": "display_data"
    }
   ],
   "source": [
    "mvo_train.plot_MVO()"
   ]
  },
  {
   "cell_type": "code",
   "execution_count": 468,
   "metadata": {},
   "outputs": [
    {
     "data": {
      "image/png": "[encoded data removed]",
      "text/plain": [
       "<Figure size 432x288 with 1 Axes>"
      ]
     },
     "metadata": {
      "needs_background": "light"
     },
     "output_type": "display_data"
    }
   ],
   "source": [
    "plotReturns(portfolio_test, market_test, mvo_train.stats['Weights'])"
   ]
  }
 ],
 "metadata": {
  "kernelspec": {
   "display_name": "base",
   "language": "python",
   "name": "python3"
  },
  "language_info": {
   "codemirror_mode": {
    "name": "ipython",
    "version": 3
   },
   "file_extension": ".py",
   "mimetype": "text/x-python",
   "name": "python",
   "nbconvert_exporter": "python",
   "pygments_lexer": "ipython3",
   "version": "3.8.8"
  }
 },
 "nbformat": 4,
 "nbformat_minor": 2
}
