{
 "cells": [
  {
   "cell_type": "markdown",
   "metadata": {},
   "source": [
    "# Portfolio Generator\n",
    "This is a portfolio generator for personal portfolio management"
   ]
  },
  {
   "cell_type": "code",
   "execution_count": 265,
   "metadata": {},
   "outputs": [],
   "source": [
    "import pandas as pd\n",
    "import numpy as np\n",
    "import matplotlib.pyplot as plt\n",
    "import yfinance as yf\n",
    "from scipy.optimize import minimize\n",
    "from typing import Union\n",
    "from sklearn import linear_model, covariance"
   ]
  },
  {
   "cell_type": "code",
   "execution_count": 12,
   "metadata": {},
   "outputs": [],
   "source": [
    "class Market:\n",
    "  \"\"\"Market Class (Abstract)\n",
    "  \n",
    "  Params:\n",
    "   - start: start date to retrieve historical data\n",
    "   - end: end date to retrieve historical data\n",
    "  \"\"\"\n",
    "  def __init__(self, start: str, end: Union[str, None] = None) -> None:\n",
    "    self.start = start\n",
    "    self.end = end\n",
    "  \n",
    "  def retrieve_data(self):\n",
    "    raise NotImplementedError(\"Data retrieval not implemented\")\n",
    "    \n",
    "  def calc_stats(self):\n",
    "    self.calc_risk_free_rate()\n",
    "    self.calc_volatility()\n",
    "    \n",
    "  def calc_risk_free_rate(self):\n",
    "    raise NotImplementedError(\"Rf rate not implemented\")\n",
    "    \n",
    "  def calc_volatility(self):\n",
    "    raise NotImplementedError(\"Market volatility not implemented\")\n",
    "\n",
    "  def __str__(self) -> str:\n",
    "    return f'Market Reference: {self.ticker}\\n  Risk-free rate: {self.risk_free_rate}\\n  True Volatility: {self.volatility}'"
   ]
  },
  {
   "cell_type": "code",
   "execution_count": 13,
   "metadata": {},
   "outputs": [],
   "source": [
    "class MarketIndex(Market):\n",
    "  \"\"\"Index-based Market Class\n",
    "  \n",
    "  Params:\n",
    "   - ticker: index to track\n",
    "   - start: start date to retrieve historical data\n",
    "   - end: end date to retrieve historical data\n",
    "  \"\"\"\n",
    "  def __init__(self, ticker: str,  start: str, end: Union[str, None] = None) -> None:\n",
    "    self.ticker = ticker\n",
    "    Market.__init__(self, start, end)\n",
    "    self.retrieve_data()\n",
    "    self.calc_stats()\n",
    "    \n",
    "  def retrieve_data(self):\n",
    "    self.data = yf.download(self.ticker, start = self.start, end = self.end, auto_adjust=True)\n",
    "    self.data = self.data[['Close']].copy()\n",
    "    self.data.dropna(inplace=True)\n",
    "    self.data['Return'] = self.data['Close'].pct_change()\n",
    "    \n",
    "  def calc_risk_free_rate(self):\n",
    "    self.risk_free_rate = np.mean(self.data['Return'])\n",
    "    \n",
    "  def calc_volatility(self):\n",
    "    self.volatility = np.std(self.data['Return'])"
   ]
  },
  {
   "cell_type": "code",
   "execution_count": 57,
   "metadata": {},
   "outputs": [],
   "source": [
    "class MarketFF(Market):\n",
    "  \"\"\"Fama-French Data-based Market Class\n",
    "  \n",
    "  Params:\n",
    "   - file: csv file from Ken French's Fama-French database\n",
    "   - start: start date to retrieve historical data\n",
    "   - end: end date to retrieve historical data\n",
    "  \"\"\"\n",
    "  def __init__(self, start: str, end: Union[str, None] = None) -> None:\n",
    "    self.ticker = 'Fama-French'\n",
    "    Market.__init__(self, start, end)\n",
    "    self.retrieve_data()\n",
    "    self.calc_stats()\n",
    "    \n",
    "  def retrieve_data(self):\n",
    "    self.data = pd.read_csv('https://mba.tuck.dartmouth.edu/pages/faculty/ken.french/ftp/F-F_Research_Data_Factors_daily_CSV.zip', compression='zip', skiprows=[0,1,2]).dropna()\n",
    "    self.data.columns = ['DATE', 'MKTRF', 'SMB', 'HML', 'RF']\n",
    "    self.data['RF'] = self.data['RF'] / 100\n",
    "    self.data['DATE'] = pd.to_datetime(self.data['DATE'], format='%Y%m%d')\n",
    "    if self.end is None:\n",
    "      self.data = self.data[(self.data['DATE'] >= self.start)]\n",
    "    else:\n",
    "      self.data = self.data[(self.data['DATE'] >= self.start) & (self.data['DATE'] <= self.end)]\n",
    "      \n",
    "  def calc_risk_free_rate(self):\n",
    "    self.risk_free_rate = np.mean(self.data['RF'])\n",
    "    \n",
    "  def calc_volatility(self):\n",
    "    self.volatility = 0"
   ]
  },
  {
   "cell_type": "code",
   "execution_count": 361,
   "metadata": {},
   "outputs": [],
   "source": [
    "class Portfolio:\n",
    "  \"\"\"Portfolio Class\n",
    "  \n",
    "  Params:\n",
    "   - tickers: the list of stocks to generate the portfolio\n",
    "   - start: start date to retrieve historical data\n",
    "   - end: end date to retrieve historical data\n",
    "  \"\"\"\n",
    "  def __init__(self, tickers: list = [], start: str = \"2014-01-01\", end: Union[str, None] = None) -> None:\n",
    "    if len(tickers) <= 1:\n",
    "      raise Exception(\"Tickers must be a list of at least 2 assets\")\n",
    "    self.tickers = [ticker.upper() for ticker in tickers]\n",
    "    self.tickers.sort()\n",
    "    self.start = start\n",
    "    self.end = end\n",
    "    self.retrieve_data()\n",
    "    self.calc_stats()\n",
    "    \n",
    "  def __str__(self) -> str:\n",
    "    return f'Portfolio Assets: {self.tickers}\\n  Average Return: {self.mean_returns}\\n  Expected Return: {self.expected_returns}'\n",
    "    \n",
    "  def retrieve_data(self):\n",
    "    self.data = yf.download(self.tickers, start = self.start, end = self.end, auto_adjust=True)\n",
    "    self.data = self.data[['Close']]\n",
    "    self.data.dropna(inplace=True)\n",
    "    \n",
    "    returns = self.data[['Close']].pct_change()\n",
    "    returns.columns = returns.columns.set_levels(['Return'], level=0)\n",
    "    self.data = pd.concat([self.data, returns], axis=1)\n",
    "  \n",
    "  def calc_stats(self):\n",
    "    self.calc_mean_returns()\n",
    "    self.calc_expected_returns()\n",
    "    self.calc_covariance_matrix()\n",
    "  \n",
    "  def calc_mean_returns(self):\n",
    "    self.mean_returns = [np.mean(self.data['Return'][ticker]) for ticker in self.tickers]\n",
    "    \n",
    "  def calc_expected_returns(self):\n",
    "    \"\"\"Uses the Fama-French 3 Factor Model\"\"\"\n",
    "    returns = self.data['Return'].reset_index().melt(id_vars=[\"Date\"], var_name=\"ASSET\", value_name=\"RET\").dropna()\n",
    "    returns.columns = ['DATE', 'ASSET', 'RET']\n",
    "    \n",
    "    ff3 = pd.read_csv('https://mba.tuck.dartmouth.edu/pages/faculty/ken.french/ftp/F-F_Research_Data_Factors_daily_CSV.zip', compression='zip', skiprows=[0,1,2]).dropna()\n",
    "    ff3.columns = ['DATE', 'MKTRF', 'SMB', 'HML', 'RF']\n",
    "    ff3['RF'] = ff3['RF'] / 100\n",
    "    ff3['DATE'] = pd.to_datetime(ff3['DATE'], format='%Y%m%d')\n",
    "    \n",
    "    merged = pd.merge(returns, ff3, on=\"DATE\")\n",
    "    merged[\"XRET\"] = merged[\"RET\"] - merged[\"RF\"]\n",
    "    grouped = merged.groupby([\"ASSET\"])\n",
    "\n",
    "    beta = {'ASSET':[], 'ff3_alpha':[], 'ff3_beta':[], 'smb_beta':[], 'hml_beta':[]}\n",
    "    ret = {'ASSET': [], 'DATE': [], 'FF3_RET': []}\n",
    "\n",
    "    for name, group in grouped:\n",
    "        ff3model = linear_model.LinearRegression().fit(group[[\"MKTRF\", \"SMB\", \"HML\"]], group[\"XRET\"])\n",
    "        \n",
    "        beta['ASSET'].append(name)\n",
    "        beta['ff3_alpha'].append(ff3model.intercept_)\n",
    "        beta['ff3_beta'].append(ff3model.coef_[0])\n",
    "        beta['smb_beta'].append(ff3model.coef_[1])\n",
    "        beta['hml_beta'].append(ff3model.coef_[2])\n",
    "        \n",
    "        ret['ASSET'].extend([name] * len(group))\n",
    "        ret['DATE'].extend(group[\"DATE\"])\n",
    "        ret['FF3_RET'].extend(ff3model.predict(group[[\"MKTRF\", \"SMB\", \"HML\"]]) + group[\"RF\"])\n",
    "        \n",
    "    self.beta = pd.DataFrame(beta)\n",
    "    self.beta['ERET'] = self.beta['ff3_alpha'] + self.beta['ff3_beta'] * np.mean(merged['MKTRF']) + self.beta['smb_beta'] * np.mean(merged['SMB']) + self.beta['hml_beta'] * np.mean(merged['HML'])\n",
    "    self.expected_returns = self.beta['ERET'].to_list()\n",
    "    \n",
    "  def calc_covariance_matrix(self):\n",
    "    \"\"\"Calculates the covariance matrix using OAS shrinkage\"\"\"\n",
    "    weekly_returns = self.data['Return'].resample('1W').mean().applymap(lambda x: (x + 1)**7 - 1)\n",
    "    # monthly_returns = self.data['Return'].resample('1M').mean().applymap(lambda x: (x + 1)**30 - 1)\n",
    "    self.cov_matrix = covariance.oas(weekly_returns)[0]"
   ]
  },
  {
   "cell_type": "code",
   "execution_count": 334,
   "metadata": {},
   "outputs": [],
   "source": [
    "class MVO:\n",
    "  \"\"\"Mean Variance Optimization Class\n",
    "  \n",
    "  Params:\n",
    "   - portfolio: the portfolio to optimize\n",
    "   - market: the market reference\n",
    "   - bounds: constraint on the weight of each stock where 1 == 100% and negative means shorting\n",
    "  \"\"\"\n",
    "  def __init__(self, portfolio: Portfolio, market: Market, bounds: Union[list, None] = None) -> None:\n",
    "    self.portfolio = portfolio\n",
    "    self.market = market\n",
    "    self.bounds = bounds\n",
    "  \n",
    "  def pf_variance(self, weights):\n",
    "    return np.dot(weights.T, np.dot(self.portfolio.cov_matrix, weights))\n",
    "  \n",
    "  def pf_volatility(self, weights):\n",
    "    return np.sqrt(self.pf_variance(weights))\n",
    "  \n",
    "  def pf_return(self, weights):\n",
    "    return np.dot(weights.T, self.portfolio.expected_returns)\n",
    "  \n",
    "  def pf_return_negate(self, weights):\n",
    "    return -np.dot(weights.T, self.portfolio.expected_returns)\n",
    "  \n",
    "  def pf_sharpe(self, weights, risk_free_rate):\n",
    "    return -(self.pf_return(weights) - risk_free_rate) / self.pf_volatility(weights)\n",
    "    \n",
    "  def pf_utility(self, weights, risk_aversion):\n",
    "    return -(self.pf_return(weights) - (1 / 2) * risk_aversion * self.pf_volatility(weights))\n",
    "  \n",
    "  def minimum_variance(self, expected_return=None):\n",
    "    init_guess = np.ones(len(self.portfolio.tickers)) / len(self.portfolio.tickers)\n",
    "\n",
    "    constraints = [{\"type\": \"eq\", \"fun\": lambda x: np.sum(x) - 1}]\n",
    "    if not (expected_return is None):\n",
    "      constraints.append({\"type\": \"eq\", \"fun\": lambda x: self.pf_return(x) - expected_return})\n",
    "\n",
    "    result = minimize(fun=self.pf_variance,\n",
    "                      x0=init_guess,\n",
    "                      args=(),\n",
    "                      method=\"SLSQP\",\n",
    "                      constraints=constraints,\n",
    "                      bounds=self.bounds)\n",
    "\n",
    "    self.stats = {\n",
    "      \"Weights\": result.x,\n",
    "      \"Returns\": np.sum(self.portfolio.expected_returns * result.x),\n",
    "      \"Volatility\": np.sqrt(result.fun)\n",
    "    }\n",
    "    \n",
    "  def maximum_return(self, expected_volatility):\n",
    "    init_guess = np.ones(len(self.portfolio.tickers)) / len(self.portfolio.tickers)\n",
    "\n",
    "    constraints = [{\"type\": \"eq\", \"fun\": lambda x: np.sum(x) - 1},\n",
    "                   {\"type\": \"eq\", \"fun\": lambda x: self.pf_volatility(x) - expected_volatility}]\n",
    "\n",
    "    result = minimize(fun=self.pf_return_negate,\n",
    "                      x0=init_guess,\n",
    "                      args=(),\n",
    "                      method=\"SLSQP\",\n",
    "                      constraints=constraints,\n",
    "                      bounds=self.bounds)\n",
    "\n",
    "    self.stats = {\n",
    "      \"Weights\": result.x,\n",
    "      \"Returns\": -result.fun,\n",
    "      \"Volatility\": self.pf_volatility(result.x)\n",
    "    }\n",
    "  \n",
    "  def maximum_sharpe(self):\n",
    "    init_guess = np.ones(len(self.portfolio.tickers)) / len(self.portfolio.tickers)\n",
    "\n",
    "    constraints = [{\"type\": \"eq\", \"fun\": lambda x: np.sum(x) - 1}]\n",
    "\n",
    "    result = minimize(fun=self.pf_sharpe,\n",
    "                      x0=init_guess,\n",
    "                      args=(self.market.risk_free_rate),\n",
    "                      method=\"SLSQP\",\n",
    "                      constraints=constraints,\n",
    "                      bounds=self.bounds)\n",
    "\n",
    "    self.stats = {\n",
    "      \"Weights\": result.x,\n",
    "      \"Returns\": np.sum(self.portfolio.expected_returns * result.x),\n",
    "      \"Volatility\": self.pf_volatility(result.x),\n",
    "      \"Sharpe\": -result.fun\n",
    "    }\n",
    "    \n",
    "  def maximum_utility(self, risk_aversion=10):\n",
    "    init_guess = np.ones(len(self.portfolio.tickers)) / len(self.portfolio.tickers)    \n",
    "\n",
    "    constraints = [{\"type\": \"eq\", \"fun\": lambda x: np.sum(x) - 1}]\n",
    "\n",
    "    result = minimize(fun=self.pf_utility,\n",
    "                      x0=init_guess,\n",
    "                      args=(risk_aversion),\n",
    "                      method=\"SLSQP\",\n",
    "                      constraints=constraints,\n",
    "                      bounds=self.bounds)\n",
    "\n",
    "    self.stats = {\n",
    "      \"Weights\": result.x,\n",
    "      \"Returns\": np.sum(self.portfolio.expected_returns * result.x),\n",
    "      \"Volatility\": self.pf_volatility(result.x),\n",
    "      \"Utility\": -result.fun\n",
    "    }\n",
    "    \n",
    "  def plot_MVO(self):\n",
    "    self.minimum_variance()\n",
    "    returns = np.linspace(self.stats['Returns'] - 0.001, self.stats['Returns'] + 0.002, 51)\n",
    "    vol = []\n",
    "    for ret in returns:\n",
    "      self.minimum_variance(ret)\n",
    "      vol.append(self.stats[\"Volatility\"])\n",
    "    plt.plot(vol, returns)\n",
    "    plt.title('Mean Variance Frontier')\n",
    "    plt.xlabel('Volatility')\n",
    "    plt.ylabel('Return')\n",
    "    plt.show()"
   ]
  },
  {
   "cell_type": "code",
   "execution_count": 335,
   "metadata": {},
   "outputs": [
    {
     "name": "stdout",
     "output_type": "stream",
     "text": [
      "[*********************100%***********************]  1 of 1 completed\n",
      "Market Reference: ^GSPC\n",
      "  Risk-free rate: 0.0004882915114136135\n",
      "  True Volatility: 0.014496710116372588\n",
      "\n",
      "Market Reference: Fama-French\n",
      "  Risk-free rate: 0.0001238323353293416\n",
      "  True Volatility: 0\n",
      "\n",
      "[*********************100%***********************]  5 of 5 completed\n",
      "Portfolio Assets: ['AAPL', 'GOOGL', 'MSFT', 'NFLX', 'TSLA']\n",
      "  Average Return: [0.0011931514923494496, 0.0009382902057706153, 0.0010937006451560674, 0.0008849065778596556, 0.003091290908437963]\n",
      "  Expected Return: [0.0011277032851781362, 0.0008728419985993014, 0.001028252437984754, 0.0008194583706883415, 0.0030258427012666445]\n"
     ]
    },
    {
     "data": {
      "image/png": "[encoded data removed]",
      "text/plain": [
       "<Figure size 432x288 with 1 Axes>"
      ]
     },
     "metadata": {
      "needs_background": "light"
     },
     "output_type": "display_data"
    },
    {
     "data": {
      "image/png": "[encoded data removed]",
      "text/plain": [
       "<Figure size 432x288 with 1 Axes>"
      ]
     },
     "metadata": {
      "needs_background": "light"
     },
     "output_type": "display_data"
    }
   ],
   "source": [
    "# Example Usage\n",
    "index_market = MarketIndex('^GSPC', \"2020-01-01\", \"2023-12-29\")\n",
    "print(index_market)\n",
    "ff_market = MarketFF(\"2022-01-01\", \"2023-12-29\")\n",
    "print(ff_market)\n",
    "portfolio = Portfolio(['aapl', 'googl', 'msft', 'nflx', 'tsla'], \"2020-01-01\", \"2023-12-29\")\n",
    "print(portfolio)\n",
    "mvo_idx = MVO(portfolio, index_market, None)\n",
    "mvo_idx.plot_MVO()\n",
    "mvo_ff = MVO(portfolio, ff_market, [[0,1]] * len(portfolio.tickers))\n",
    "mvo_ff.plot_MVO()"
   ]
  },
  {
   "cell_type": "code",
   "execution_count": 336,
   "metadata": {},
   "outputs": [
    {
     "data": {
      "text/plain": [
       "{'Weights': array([ 0.52080921, -0.36518987,  0.40290179, -0.49361755,  0.93509643]),\n",
       " 'Returns': 0.00310780560993526,\n",
       " 'Volatility': 0.14019617255532987,\n",
       " 'Sharpe': 0.018684633473055965}"
      ]
     },
     "execution_count": 336,
     "metadata": {},
     "output_type": "execute_result"
    }
   ],
   "source": [
    "mvo_idx.maximum_sharpe()\n",
    "mvo_idx.stats"
   ]
  },
  {
   "cell_type": "code",
   "execution_count": 337,
   "metadata": {},
   "outputs": [
    {
     "data": {
      "text/plain": [
       "{'Weights': array([ 0.34007937,  0.27992277,  0.39615912,  0.07023412, -0.08639539]),\n",
       " 'Returns': 0.0008313236466197796,\n",
       " 'Volatility': 0.052124480811407525}"
      ]
     },
     "execution_count": 337,
     "metadata": {},
     "output_type": "execute_result"
    }
   ],
   "source": [
    "mvo_idx.minimum_variance()\n",
    "mvo_idx.stats"
   ]
  },
  {
   "cell_type": "code",
   "execution_count": 338,
   "metadata": {},
   "outputs": [
    {
     "data": {
      "text/plain": [
       "{'Weights': array([3.19057853e-01, 3.98986399e-17, 3.06211593e-01, 6.50521303e-18,\n",
       "        3.74730554e-01]),\n",
       " 'Returns': 0.0018085411177814995,\n",
       " 'Volatility': 0.07712267763838027,\n",
       " 'Sharpe': 0.021844531777690235}"
      ]
     },
     "execution_count": 338,
     "metadata": {},
     "output_type": "execute_result"
    }
   ],
   "source": [
    "mvo_ff.maximum_sharpe()\n",
    "mvo_ff.stats"
   ]
  },
  {
   "cell_type": "code",
   "execution_count": 339,
   "metadata": {},
   "outputs": [
    {
     "data": {
      "text/plain": [
       "{'Weights': array([3.13634742e-01, 2.65454847e-01, 3.69966720e-01, 5.09436919e-02,\n",
       "        4.60785923e-19]),\n",
       " 'Returns': 0.0010075524838235727,\n",
       " 'Volatility': 0.05320545603755546}"
      ]
     },
     "execution_count": 339,
     "metadata": {},
     "output_type": "execute_result"
    }
   ],
   "source": [
    "mvo_ff.minimum_variance()\n",
    "mvo_ff.stats"
   ]
  },
  {
   "cell_type": "markdown",
   "metadata": {},
   "source": [
    "## Testing"
   ]
  },
  {
   "cell_type": "code",
   "execution_count": 340,
   "metadata": {},
   "outputs": [],
   "source": [
    "def plotReturns(portfolio: Portfolio, reference: MarketIndex, weights: list):\n",
    "  market_trace = [1000]\n",
    "  for ret in reference.data['Return'][1:]:\n",
    "    market_trace.append(market_trace[-1] * (1+ret))\n",
    "\n",
    "  portfolio_trace = portfolio.data[\"Return\"].copy()\n",
    "  portfolio_trace.iloc[0] = weights\n",
    "  portfolio_trace.iloc[0] *= 1000\n",
    "\n",
    "  for idx in portfolio_trace.index[1:]:\n",
    "    portfolio_trace.loc[idx] = portfolio_trace.shift(1).loc[idx] * (1+portfolio.data[\"Return\"].loc[idx])\n",
    "    \n",
    "  portfolio_trace['total'] = portfolio_trace.sum(axis=1)\n",
    "  \n",
    "  plt.plot(reference.data.index, market_trace, label=\"Index\")\n",
    "  plt.plot(portfolio_trace.index, portfolio_trace['total'], label=\"Portfolio\")\n",
    "  plt.title(f'{reference.ticker} Index vs Optimized Portfolio from {portfolio.start} to {portfolio.end}')\n",
    "  plt.legend(loc='best')\n",
    "  plt.xlabel('Dates')\n",
    "  plt.ylabel('Returns')\n",
    "  plt.show()"
   ]
  },
  {
   "cell_type": "code",
   "execution_count": 401,
   "metadata": {},
   "outputs": [],
   "source": [
    "nasdaq100 = open('nasdaq100.txt', 'r').read().split('\\n')"
   ]
  },
  {
   "cell_type": "code",
   "execution_count": 402,
   "metadata": {},
   "outputs": [
    {
     "name": "stdout",
     "output_type": "stream",
     "text": [
      "Market Reference: Fama-French\n",
      "  Risk-free rate: 6.452045718071975e-05\n",
      "  True Volatility: 0\n",
      "\n",
      "[*********************100%***********************]  101 of 101 completed\n",
      "Portfolio Assets: ['AAPL', 'ABNB', 'ADBE', 'ADI', 'ADP', 'ADSK', 'AEP', 'AMAT', 'AMD', 'AMGN', 'AMZN', 'ANSS', 'ASML', 'AVGO', 'AZN', 'BIIB', 'BKNG', 'BKR', 'CCEP', 'CDNS', 'CDW', 'CEG', 'CHTR', 'CMCSA', 'COST', 'CPRT', 'CRWD', 'CSCO', 'CSGP', 'CSX', 'CTAS', 'CTSH', 'DASH', 'DDOG', 'DLTR', 'DXCM', 'EA', 'EXC', 'FANG', 'FAST', 'FTNT', 'GEHC', 'GFS', 'GILD', 'GOOG', 'GOOGL', 'HON', 'IDXX', 'ILMN', 'INTC', 'INTU', 'ISRG', 'KDP', 'KHC', 'KLAC', 'LRCX', 'LULU', 'MAR', 'MCHP', 'MDB', 'MDLZ', 'MELI', 'META', 'MNST', 'MRNA', 'MRVL', 'MSFT', 'MU', 'NFLX', 'NVDA', 'NXPI', 'ODFL', 'ON', 'ORLY', 'PANW', 'PAYX', 'PCAR', 'PDD', 'PEP', 'PYPL', 'QCOM', 'REGN', 'ROP', 'ROST', 'SBUX', 'SIRI', 'SNPS', 'SPLK', 'TEAM', 'TMUS', 'TSLA', 'TTD', 'TTWO', 'TXN', 'VRSK', 'VRTX', 'WBA', 'WBD', 'WDAY', 'XEL', 'ZS']\n",
      "  Average Return: [0.0014570173920548045, 0.0019473310661902734, 0.002497829363434657, 0.0009287860345760033, -8.67381073483509e-05, 0.0010928647183065642, -0.0003842873738664913, 0.00198831020091293, 0.003539751347871897, 0.0005246899797200848, 0.0023443306893886004, 0.0016652805139153173, 0.0012238778305825398, 0.0030184337482619126, 3.8594035656276844e-05, -0.00023117804299032608, 0.0024072573833015887, 0.0008757717490427, 0.0010173830290962998, 0.0021609049478869633, 0.0010007942583912636, 0.0012232077494614458, 0.0010657779878391629, 0.0011616514958128132, 0.0015665564196147169, 0.0019426707986310258, 0.0034409095119672896, 0.0003802682932246408, 0.0006160865513303782, 0.00048426418077761254, 0.00128104177343425, 0.0013230367631821137, 0.002689927735122823, 0.002407299015169482, 0.00010954667459312143, 0.0005676886464943074, 0.0005570537085153714, -0.00041749472779908247, 0.0008523719791738467, 0.001373705398616677, 0.000843624100481566, 0.0011819407514213434, 0.00026768962440933006, -2.4903355397187413e-05, 0.0018756409719362431, 0.0018585141833831803, 0.000154019734723909, 0.0013181988144313947, -0.0010188222852171385, 0.0027654967871289333, 0.001975129684254451, 0.0010714811581960361, -0.00020378286772259653, -8.152605971761066e-05, 0.001907089461532527, 0.002516849384127975, 0.0019379670263734556, 0.001567713745697554, 0.001151594264545605, 0.003438002869428646, 0.0004979725400221787, 0.002776039252874305, 0.0046560774510297, 0.0006325945998245948, -0.0024257638427174094, 0.002219879869107123, 0.0017432180495896643, 0.0022250170729445603, 0.0022993264064908175, 0.0046065400562742545, 0.0015808511138661486, 0.0014524241217810348, 0.0015140377955476388, 0.0006715537097150782, 0.0028358483482978807, 0.00029341012288280877, 0.0018463297171819675, 0.002586620140593338, -8.684649457017582e-05, -0.00012424018000774427, 0.0011616182964451628, 0.0008362544703067691, 0.0009990005154576083, 0.0008836060822162765, 1.9361686791703108e-05, 0.0005818369631441216, 0.001957210587866311, 0.002405694973355071, 0.0024868940539257427, 0.0005710301026179704, 0.0024642981608995846, 0.002326359278441478, 0.0019456650071988765, 0.0002711324809722579, 0.0012482852039057215, 0.0012160949730313094, -0.0010437670140279061, 0.0011917622480630248, 0.0019486238328990906, -0.000277509589450522, 0.003010006564242406]\n",
      "  Expected Return: [0.001266862951900413, 0.0017571766260358985, 0.0023076749232802864, 0.0007386315944216103, -0.0002768925475027614, 0.0009027102781521884, -0.0005744418140209163, 0.0017981557607585589, 0.0033495969077175477, 0.0003345355395656581, 0.0021541762492342325, 0.0014751260737609366, 0.0010337233904281666, 0.0028282793081075303, -0.00015156040449815358, -0.00042133248314474, 0.0022171029431471857, 0.0006856173088882751, 0.000827228588941877, 0.001970750507732582, 0.0008106398182368548, 0.001033053309307037, 0.0008756235476847598, 0.0009714970556584076, 0.00137640197946031, 0.001752516358476629, 0.0032507550718129277, 0.00019011385307022674, 0.0004259321111759827, 0.00029410974062319924, 0.001090887333279846, 0.001132882323027705, 0.0024997732949684605, 0.0022171445750151396, -8.060776556129712e-05, 0.0003775342063399076, 0.00036689926836095614, -0.0006076491679535068, 0.0006622175390194149, 0.001183550958462271, 0.0006534696603271796, 0.000991786311266942, 7.753518425495878e-05, -0.00021505779555161514, 0.0016854865317818674, 0.0016683597432288033, -3.6134705430505036e-05, 0.0011280443742770138, -0.0012089767253715188, 0.002575342346974549, 0.0017849752441000764, 0.0008813267180416457, -0.00039393730787702836, -0.00027168049987204155, 0.001716935021378155, 0.002326694943973603, 0.0017478125862190595, 0.0013775593055431468, 0.0009614398243912259, 0.0032478484292743103, 0.00030781809986775617, 0.002585884812719927, 0.0044659230108753415, 0.000442440159670183, -0.0026159182828718094, 0.0020297254289527796, 0.0015530636094352823, 0.0020348626327901707, 0.002109171966336439, 0.004416385616119911, 0.0013906966737117683, 0.001262269681626641, 0.001323883355393269, 0.0004813992695606509, 0.0026456939081434976, 0.00010325568272840063, 0.0016561752770275504, 0.002396465700438958, -0.0002770009347246029, -0.0003143946201621332, 0.0009714638562907769, 0.0006461000301523443, 0.0008088460753031967, 0.0006934516420618611, -0.0001707927533627079, 0.00039168252298970576, 0.0017670561477119288, 0.002215540533200673, 0.002296739613771393, 0.00038087566246354385, 0.002274143720745241, 0.0021362048382871277, 0.0017555105670444837, 8.097804081786414e-05, 0.0010581307637513111, 0.0010259405328768923, -0.0012339214541823285, 0.0010016078079086352, 0.0017584693927447073, -0.0004676640296049459, 0.0028198521240880535]\n"
     ]
    }
   ],
   "source": [
    "train_start, train_end = [\"2000-01-01\", \"2023-12-29\"]\n",
    "market_train = MarketFF(train_start, train_end)\n",
    "print(market_train)\n",
    "portfolio_train = Portfolio(nasdaq100, train_start, train_end)\n",
    "print(portfolio_train)"
   ]
  },
  {
   "cell_type": "code",
   "execution_count": 403,
   "metadata": {},
   "outputs": [
    {
     "name": "stdout",
     "output_type": "stream",
     "text": [
      "[*********************100%***********************]  1 of 1 completed\n",
      "Market Reference: ^NDX\n",
      "  Risk-free rate: 0.0018484150478542388\n",
      "  True Volatility: 0.011414719087252233\n",
      "\n",
      "[*********************100%***********************]  101 of 101 completed\n",
      "Portfolio Assets: ['AAPL', 'ABNB', 'ADBE', 'ADI', 'ADP', 'ADSK', 'AEP', 'AMAT', 'AMD', 'AMGN', 'AMZN', 'ANSS', 'ASML', 'AVGO', 'AZN', 'BIIB', 'BKNG', 'BKR', 'CCEP', 'CDNS', 'CDW', 'CEG', 'CHTR', 'CMCSA', 'COST', 'CPRT', 'CRWD', 'CSCO', 'CSGP', 'CSX', 'CTAS', 'CTSH', 'DASH', 'DDOG', 'DLTR', 'DXCM', 'EA', 'EXC', 'FANG', 'FAST', 'FTNT', 'GEHC', 'GFS', 'GILD', 'GOOG', 'GOOGL', 'HON', 'IDXX', 'ILMN', 'INTC', 'INTU', 'ISRG', 'KDP', 'KHC', 'KLAC', 'LRCX', 'LULU', 'MAR', 'MCHP', 'MDB', 'MDLZ', 'MELI', 'META', 'MNST', 'MRNA', 'MRVL', 'MSFT', 'MU', 'NFLX', 'NVDA', 'NXPI', 'ODFL', 'ON', 'ORLY', 'PANW', 'PAYX', 'PCAR', 'PDD', 'PEP', 'PYPL', 'QCOM', 'REGN', 'ROP', 'ROST', 'SBUX', 'SIRI', 'SNPS', 'SPLK', 'TEAM', 'TMUS', 'TSLA', 'TTD', 'TTWO', 'TXN', 'VRSK', 'VRTX', 'WBA', 'WBD', 'WDAY', 'XEL', 'ZS']\n",
      "  Average Return: [0.0018641978335230697, 0.002286817613098147, 0.0025007458271448907, 0.0010556293844499855, 9.036660344630311e-05, 0.001325002998012958, -0.0003737564987912397, 0.002373014525954278, 0.0038368941705940927, 0.0006160234257529115, 0.002559478095625123, 0.0018864714295939431, 0.0015275527574099947, 0.003147101019461981, 6.131760384619552e-05, -8.71163054081253e-05, 0.002374994205184434, 0.0009442845113291444, 0.0010177660665725446, 0.0023177145529613458, 0.0011449101154624682, 0.001634916971097223, 0.0007585868299557248, 0.0010679383695677953, 0.0017282655793016675, 0.0019676240110361016, 0.004012993248347461, 0.0004138511606112107, 0.0006531401279302686, 0.0006177810900449979, 0.0012903342241176498, 0.0012905817818933492, 0.003322749287020691, 0.0028304581461890523, 0.00024875109034064763, 0.0006409551449453765, 0.0005442559744977273, -0.0005107022158683107, 0.0010600152181996722, 0.0014816972909572055, 0.0011672479622626525, 0.001502051232283868, 0.0009881529316505169, 2.8504877053407036e-05, 0.002019833020353536, 0.0020132626425959856, 5.7365998294766375e-05, 0.0014630722383714581, -0.0009502750538684509, 0.0029455769928973695, 0.002110290240181758, 0.0011414368338653828, -9.328478245554384e-05, -0.0001812783426535621, 0.0020666827338434736, 0.0029038202822508023, 0.002039043329021869, 0.0018381895477085058, 0.0013983122779912761, 0.0038356906712247343, 0.0005040649198429817, 0.0029281013717642255, 0.004560348701382419, 0.0005924758621910855, -0.0019880424926534677, 0.0027305778562290166, 0.001971444892514836, 0.002439046525714142, 0.002326570798579024, 0.005463741520283459, 0.00189479753379338, 0.0017429508955893928, 0.0017402050136126031, 0.000535793550388016, 0.003349139603636001, 0.00034561677486230895, 0.0019061291162580714, 0.002815678761911128, -7.258205703073836e-05, -0.00040797648626656407, 0.0015447038084314497, 0.0009310539761091521, 0.0009949119116474678, 0.0008462324887108111, -1.5323896930000583e-05, 0.0007292153515102984, 0.0020914202702784802, 0.002533051498588525, 0.0031510548700321274, 0.0006279672109529198, 0.003983273306705554, 0.0026551236533490117, 0.0019706122197717616, 0.0004436646465141836, 0.0012837452112917803, 0.001568054908752864, -0.0008466430396757326, 0.0014117729924502513, 0.002171048338692336, -0.00028767428132960417, 0.0033835289196332452]\n",
      "  Expected Return: [0.0016727462206198487, 0.002095366000194937, 0.0023092942142416716, 0.0008641777715467718, -0.00010108500945691259, 0.0011335513851097414, -0.000565208111694455, 0.0021815629130510603, 0.0036454425576908697, 0.0004245718128496954, 0.0023680264827218994, 0.0016950198166907232, 0.0013361011445067778, 0.002955649406558765, -0.0001301340090570236, -0.0002785679183113418, 0.0021835425922812203, 0.0007528328984259441, 0.000826314453669323, 0.002126262940058122, 0.0009534585025592545, 0.0014434653581940102, 0.0005671352170525171, 0.0008764867566645811, 0.0015368139663984456, 0.0017761723981328814, 0.003821541635444237, 0.00022239954770799348, 0.00046168851502705413, 0.0004263294771417853, 0.0010988826112144324, 0.0010991301689901353, 0.003131297674117476, 0.0026390065332858237, 5.729947743743606e-05, 0.00044950353204215466, 0.00035280436159450897, -0.0007021538287715284, 0.0008685636052964745, 0.0012902456780539866, 0.0009757963493594308, 0.0013105996193806513, 0.0007967013187473056, -0.0001629467358498077, 0.0018283814074503127, 0.001821811029692762, -0.00013408561460844537, 0.0012716206254682451, -0.0011417266667716668, 0.002754125379994154, 0.0019188386272785405, 0.0009499852209621636, -0.0002847363953587635, -0.0003727299555567811, 0.0018752311209402597, 0.002712368669347587, 0.0018475917161186568, 0.0016467379348052923, 0.0012068606650880661, 0.0036442390583215113, 0.0003126133069397601, 0.00273664975886101, 0.004368897088479201, 0.0004010242492878644, -0.002179494105556679, 0.002539126243325809, 0.0017799932796116079, 0.002247594912810929, 0.0021351191856758015, 0.005272289907380238, 0.0017033459208901699, 0.0015514992826861818, 0.0015487534007093931, 0.00034434193748479483, 0.003157687990732776, 0.00015416516195909452, 0.0017146775033548632, 0.0026242271490079165, -0.00026403366993396106, -0.0005994280991697685, 0.0013532521955282402, 0.0007396023632059344, 0.000803460298744249, 0.0006547808758075968, -0.00020677550983321332, 0.0005377637386071036, 0.0018999686573752564, 0.002341599885685303, 0.0029596032571289075, 0.0004365155980496979, 0.003791821693802344, 0.0024636720404457944, 0.0017791606068685425, 0.00025221303361097023, 0.0010922935983885568, 0.0013766032958496452, -0.0010380946525789375, 0.0012203213795470625, 0.0019795967257891143, -0.00047912589423282294, 0.0031920773067300222]\n"
     ]
    }
   ],
   "source": [
    "test_start, test_end = [\"2023-01-01\", \"2023-12-29\"]\n",
    "market_test = MarketIndex('^NDX', test_start, test_end)\n",
    "print(market_test)\n",
    "portfolio_test = Portfolio(nasdaq100, test_start, test_end)\n",
    "print(portfolio_test)"
   ]
  },
  {
   "cell_type": "code",
   "execution_count": 404,
   "metadata": {},
   "outputs": [
    {
     "data": {
      "text/plain": [
       "{'Weights': array([3.45981403e-17, 0.00000000e+00, 0.00000000e+00, 0.00000000e+00,\n",
       "        1.82351470e-17, 2.99722634e-17, 3.97986207e-17, 0.00000000e+00,\n",
       "        0.00000000e+00, 4.20974172e-02, 1.05366571e-17, 2.34177503e-17,\n",
       "        0.00000000e+00, 4.58332541e-03, 0.00000000e+00, 0.00000000e+00,\n",
       "        5.66026592e-02, 6.46108174e-17, 8.50301072e-02, 2.52091241e-18,\n",
       "        0.00000000e+00, 8.54498524e-02, 0.00000000e+00, 0.00000000e+00,\n",
       "        2.57115594e-02, 8.06207064e-17, 6.19175952e-02, 0.00000000e+00,\n",
       "        0.00000000e+00, 1.22982091e-16, 0.00000000e+00, 0.00000000e+00,\n",
       "        1.12324369e-17, 5.92590803e-17, 0.00000000e+00, 0.00000000e+00,\n",
       "        0.00000000e+00, 0.00000000e+00, 3.25822929e-02, 0.00000000e+00,\n",
       "        0.00000000e+00, 0.00000000e+00, 0.00000000e+00, 0.00000000e+00,\n",
       "        0.00000000e+00, 1.70089376e-17, 2.15841838e-17, 0.00000000e+00,\n",
       "        5.54260685e-17, 0.00000000e+00, 6.75641834e-17, 0.00000000e+00,\n",
       "        2.84074362e-17, 0.00000000e+00, 0.00000000e+00, 4.36039409e-17,\n",
       "        4.08989391e-02, 1.86703590e-02, 2.86838109e-17, 0.00000000e+00,\n",
       "        0.00000000e+00, 4.20765748e-03, 2.17078324e-01, 1.06770380e-17,\n",
       "        8.07089040e-17, 0.00000000e+00, 1.25801287e-17, 0.00000000e+00,\n",
       "        1.18764089e-03, 8.04039319e-02, 1.06545001e-16, 0.00000000e+00,\n",
       "        0.00000000e+00, 6.56866866e-02, 8.06879365e-02, 0.00000000e+00,\n",
       "        5.78702066e-02, 0.00000000e+00, 1.76263988e-17, 1.74930610e-17,\n",
       "        0.00000000e+00, 0.00000000e+00, 1.38756413e-02, 2.29385878e-17,\n",
       "        0.00000000e+00, 1.48527947e-18, 0.00000000e+00, 1.41656198e-02,\n",
       "        0.00000000e+00, 2.41548915e-03, 1.13845800e-18, 1.31175336e-17,\n",
       "        8.87675860e-03, 3.54592016e-17, 0.00000000e+00, 0.00000000e+00,\n",
       "        0.00000000e+00, 3.88600876e-17, 1.07152337e-16, 0.00000000e+00,\n",
       "        2.20775518e-17]),\n",
       " 'Returns': 0.002404588294365697,\n",
       " 'Volatility': 0.02929266067838546,\n",
       " 'Sharpe': 0.07988580699027016}"
      ]
     },
     "execution_count": 404,
     "metadata": {},
     "output_type": "execute_result"
    }
   ],
   "source": [
    "mvo_train = MVO(portfolio_train, market_train, [[0,1]] * len(nasdaq100))\n",
    "mvo_train.maximum_sharpe()\n",
    "mvo_train.stats"
   ]
  },
  {
   "cell_type": "code",
   "execution_count": 405,
   "metadata": {},
   "outputs": [
    {
     "data": {
      "image/png": "[encoded data removed]",
      "text/plain": [
       "<Figure size 432x288 with 1 Axes>"
      ]
     },
     "metadata": {
      "needs_background": "light"
     },
     "output_type": "display_data"
    }
   ],
   "source": [
    "mvo_train.plot_MVO()"
   ]
  },
  {
   "cell_type": "code",
   "execution_count": 406,
   "metadata": {},
   "outputs": [
    {
     "data": {
      "image/png": "[encoded data removed]",
      "text/plain": [
       "<Figure size 432x288 with 1 Axes>"
      ]
     },
     "metadata": {
      "needs_background": "light"
     },
     "output_type": "display_data"
    }
   ],
   "source": [
    "plotReturns(portfolio_test, market_test, mvo_train.stats['Weights'])"
   ]
  },
  {
   "cell_type": "markdown",
   "metadata": {},
   "source": [
    "# Personal Portfolio"
   ]
  },
  {
   "cell_type": "code",
   "execution_count": 382,
   "metadata": {},
   "outputs": [],
   "source": [
    "watchlist = 'aapl ai amd amzn asan dash googl intc meta msft net nflx nvda pltr rivn schl spot tsla uber'\n",
    "watchlist = watchlist.split(' ')\n",
    "watchlist = nasdaq100"
   ]
  },
  {
   "cell_type": "code",
   "execution_count": 388,
   "metadata": {},
   "outputs": [
    {
     "name": "stdout",
     "output_type": "stream",
     "text": [
      "Market Reference: Fama-French\n",
      "  Risk-free rate: 5.902004839267299e-05\n",
      "  True Volatility: 0\n",
      "\n",
      "[*********************100%***********************]  19 of 19 completed\n",
      "Portfolio Assets: ['AAPL', 'AI', 'AMD', 'AMZN', 'ASAN', 'DASH', 'GOOGL', 'INTC', 'META', 'MSFT', 'NET', 'NFLX', 'NVDA', 'PLTR', 'RIVN', 'SCHL', 'SPOT', 'TSLA', 'UBER']\n",
      "  Average Return: [-0.00030189966527172877, -0.00407405703893967, -0.0021036482972131994, -0.002204951353467087, -0.005690325136496462, -0.00399012136591493, -0.001588288653805223, -0.0020109182967348034, -0.0028753119825512684, -0.000940541421460871, -0.003483194332813011, -0.0020388048485123758, -0.001820695375574864, -0.0036281042404012667, -0.004344511842565056, 0.0003892954487398391, -0.0036198614900100805, -0.0031982340691630935, -0.0012142164663919441]\n",
      "  Expected Return: [-0.00035070248217313507, -0.004122859855841071, -0.0021524511141146068, -0.0022537541703684916, -0.005739127953397856, -0.004038924182816327, -0.0016370914707066289, -0.0020597211136362146, -0.0029241147994526727, -0.0009893442383622757, -0.003531997149714403, -0.0020876076654137775, -0.0018694981924762683, -0.0036769070573026653, -0.004393314659466456, 0.00034049263183842367, -0.003668664306911483, -0.0032470368860644952, -0.0012630192832933482]\n"
     ]
    }
   ],
   "source": [
    "watch_start, watch_end = [\"2000-01-01\", \"2022-12-29\"]\n",
    "market_watch = MarketFF(watch_start, watch_end)\n",
    "print(market_watch)\n",
    "portfolio_watch = Portfolio(watchlist, watch_start, watch_end)\n",
    "print(portfolio_watch)"
   ]
  },
  {
   "cell_type": "code",
   "execution_count": 416,
   "metadata": {},
   "outputs": [
    {
     "name": "stdout",
     "output_type": "stream",
     "text": [
      "[*********************100%***********************]  1 of 1 completed\n",
      "Market Reference: ^NDX\n",
      "  Risk-free rate: 0.0018189935087631396\n",
      "  True Volatility: 0.011302842429616385\n",
      "\n",
      "[*********************100%***********************]  101 of 101 completed\n",
      "Portfolio Assets: ['AAPL', 'ABNB', 'ADBE', 'ADI', 'ADP', 'ADSK', 'AEP', 'AMAT', 'AMD', 'AMGN', 'AMZN', 'ANSS', 'ASML', 'AVGO', 'AZN', 'BIIB', 'BKNG', 'BKR', 'CCEP', 'CDNS', 'CDW', 'CEG', 'CHTR', 'CMCSA', 'COST', 'CPRT', 'CRWD', 'CSCO', 'CSGP', 'CSX', 'CTAS', 'CTSH', 'DASH', 'DDOG', 'DLTR', 'DXCM', 'EA', 'EXC', 'FANG', 'FAST', 'FTNT', 'GEHC', 'GFS', 'GILD', 'GOOG', 'GOOGL', 'HON', 'IDXX', 'ILMN', 'INTC', 'INTU', 'ISRG', 'KDP', 'KHC', 'KLAC', 'LRCX', 'LULU', 'MAR', 'MCHP', 'MDB', 'MDLZ', 'MELI', 'META', 'MNST', 'MRNA', 'MRVL', 'MSFT', 'MU', 'NFLX', 'NVDA', 'NXPI', 'ODFL', 'ON', 'ORLY', 'PANW', 'PAYX', 'PCAR', 'PDD', 'PEP', 'PYPL', 'QCOM', 'REGN', 'ROP', 'ROST', 'SBUX', 'SIRI', 'SNPS', 'SPLK', 'TEAM', 'TMUS', 'TSLA', 'TTD', 'TTWO', 'TXN', 'VRSK', 'VRTX', 'WBA', 'WBD', 'WDAY', 'XEL', 'ZS']\n",
      "  Average Return: [0.001425244618817284, 0.0023957959429533006, 0.0019402869984770676, 0.000749082854835894, 0.0004164203319196989, 0.0013344908171205132, -0.00022492247738483054, 0.0027760029000430844, 0.0040077719373247086, 0.0005872949749826545, 0.0027045068703408365, 0.001447039628018389, 0.0020975716251614143, 0.003261334504214843, 4.315770832936404e-05, -0.0005941904230321519, 0.0020491299153448206, 0.00039059436318564293, 0.0009787466866947178, 0.0024045572300137787, 0.001275412800280052, 0.0019075165738158925, -0.00020648889157983834, 0.0007840369186354369, 0.001882237272226133, 0.001891258616638114, 0.004223679555102377, 0.00027909698517505075, 0.00045506107489320724, 0.0008836136518163525, 0.0013136936573783402, 0.0013227249045271755, 0.003612624775796673, 0.002668184101441738, 0.0003169112031560543, 0.0003482734677634612, 0.0006240894865913276, -0.00040552781755300466, 0.001392126435071538, 0.0016957039972164561, 0.001498298961736832, 0.0018228255243121262, 0.00038664319600964834, -0.0002877414953873949, 0.0018676311308030344, 0.001856746604575474, -8.914052225571379e-05, 0.00141517086775175, -0.0010174848509427418, 0.0020533567476555773, 0.002022406760694362, 0.0015102226307198363, -0.00039709274953806273, -0.00020866412774532035, 0.00229614889245873, 0.0031177703423280025, 0.0014122283352625425, 0.0020186747130564214, 0.0009309020942739259, 0.0036698730476273996, 0.000525800211279496, 0.0026881265242177815, 0.005093055886664467, 0.00038833535803405804, -0.0016986314681130244, 0.0027630953355402797, 0.002037566940013402, 0.0021450657481222285, 0.0026606989816934765, 0.006443963461039297, 0.0017808854427859339, 0.0017694358713322672, 0.0011702772053340505, 0.0008854806762197296, 0.002945753812959764, 0.0004759399593373448, 0.002105555622469904, 0.0020258025355027022, -5.11400803789638e-05, -0.0005112998498962556, 0.0015734167466798558, 0.0011886294164714973, 0.0009442101822514366, 0.0009790237884263087, 4.841502941747873e-06, 0.00014208646236491218, 0.0022217830626801885, 0.0022760026076393703, 0.002223653984463803, 0.0006632669322620108, 0.002546633050404447, 0.0027550286455013703, 0.0014950111947936299, 0.0002576150289677498, 0.0012268247691586474, 0.0015438264256425456, -0.0013636989786523688, 0.0002089625973603917, 0.00225328750908434, -0.0003893666727452167, 0.00318035938368854]\n",
      "  Expected Return: [0.0016434014385930352, 0.002060897153937554, 0.002306459567816123, 0.0008261687739869049, -9.323063717030241e-05, 0.0011047061510369577, -0.0005692133841889719, 0.0021461070357415768, 0.003593513234335096, 0.00041589698030540816, 0.002319968293582923, 0.0016986897121202705, 0.0013249635933911571, 0.0029208944760638306, -0.00012747177538897117, -0.00030618826574928623, 0.002170253779560276, 0.0007466176424133723, 0.0008173445061308777, 0.0021040932242453393, 0.000924552846371712, 0.0014292804086376472, 0.0005260425667093059, 0.0008475466930997958, 0.0015115077968404296, 0.0017755858327649712, 0.003792650114929064, 0.00022384539599976667, 0.00043069906294578573, 0.0004156810107706643, 0.0011041149939177858, 0.0010774565451020192, 0.0030649778635186463, 0.0025656688258657483, 4.945238061403951e-05, 0.0004445904751531229, 0.0003520125941784502, -0.0006945757346300437, 0.0008577681509512122, 0.001279884980656454, 0.0009122127876793675, 0.0012930984317622578, 0.0007332433202529211, -0.00016957033212699235, 0.0018102457665917404, 0.0017981862112782987, -0.00012402229859113746, 0.0012514665901318814, -0.0012196454050955531, 0.002731063407670666, 0.0018911684221069472, 0.0009331021011285026, -0.00028804823625987484, -0.00034584224313271867, 0.0018328116098849081, 0.002668032820124894, 0.001855653817756227, 0.0016649101455394099, 0.0011719923657923304, 0.003549513683626648, 0.0003199630845966773, 0.002699271216016544, 0.004301640915190559, 0.00041185947000851165, -0.0021447539769366667, 0.0024632260776818638, 0.0017801342611149687, 0.002212240696128208, 0.0020959802710660037, 0.00525027269406549, 0.0016715029256510754, 0.0014884426603551594, 0.0014731644653326816, 0.00037996319018884377, 0.0031346524432032865, 0.0001395953945228233, 0.0016995587058236353, 0.0026393695624500058, -0.00025314768018778355, -0.0007041868176626931, 0.001313107664151021, 0.000720256300100779, 0.0007921835286096727, 0.0006568295282929496, -0.0002034392735766877, 0.0004911867928572723, 0.0018720902353337814, 0.0023390119268781105, 0.002890933381689288, 0.0004687866452456656, 0.0037011964818296477, 0.0023741449982585512, 0.0017582385205118275, 0.0002208882809506756, 0.0011081910071247935, 0.0013468773006084969, -0.0011087492581166323, 0.0011080777312165954, 0.00197051238962237, -0.0004767472063688094, 0.0031268803742450133]\n"
     ]
    }
   ],
   "source": [
    "watch2_start, watch2_end = [\"2023-01-01\", None]\n",
    "market_watch2 = MarketIndex('^NDX', watch2_start, watch2_end)\n",
    "print(market_watch2)\n",
    "portfolio_watch2 = Portfolio(watchlist, watch2_start, watch2_end)\n",
    "print(portfolio_watch2)"
   ]
  },
  {
   "cell_type": "code",
   "execution_count": 417,
   "metadata": {},
   "outputs": [],
   "source": [
    "mvo_watch = MVO(portfolio_train, market_train, [[0,1]] * len(nasdaq100))\n",
    "mvo_watch.maximum_sharpe()"
   ]
  },
  {
   "cell_type": "code",
   "execution_count": 418,
   "metadata": {},
   "outputs": [
    {
     "data": {
      "image/png": "[encoded data removed]",
      "text/plain": [
       "<Figure size 432x288 with 1 Axes>"
      ]
     },
     "metadata": {
      "needs_background": "light"
     },
     "output_type": "display_data"
    }
   ],
   "source": [
    "plotReturns(portfolio_watch2, market_watch2, mvo_watch.stats['Weights'])"
   ]
  }
 ],
 "metadata": {
  "kernelspec": {
   "display_name": "base",
   "language": "python",
   "name": "python3"
  },
  "language_info": {
   "codemirror_mode": {
    "name": "ipython",
    "version": 3
   },
   "file_extension": ".py",
   "mimetype": "text/x-python",
   "name": "python",
   "nbconvert_exporter": "python",
   "pygments_lexer": "ipython3",
   "version": "3.8.8"
  }
 },
 "nbformat": 4,
 "nbformat_minor": 2
}
