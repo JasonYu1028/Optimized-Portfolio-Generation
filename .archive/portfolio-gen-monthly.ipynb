{
 "cells": [
  {
   "cell_type": "markdown",
   "metadata": {},
   "source": [
    "# Portfolio Generator\n",
    "This is a portfolio generator for personal portfolio management"
   ]
  },
  {
   "cell_type": "code",
   "execution_count": 1,
   "metadata": {},
   "outputs": [],
   "source": [
    "import pandas as pd\n",
    "import numpy as np\n",
    "import matplotlib.pyplot as plt\n",
    "import yfinance as yf\n",
    "from scipy.optimize import minimize\n",
    "from typing import Union\n",
    "from sklearn import linear_model, covariance"
   ]
  },
  {
   "cell_type": "code",
   "execution_count": 2,
   "metadata": {},
   "outputs": [],
   "source": [
    "class Market:\n",
    "  \"\"\"Market Class (Abstract)\n",
    "  \n",
    "  Params:\n",
    "   - start: start date to retrieve historical data\n",
    "   - end: end date to retrieve historical data\n",
    "  \"\"\"\n",
    "  def __init__(self, start: str, end: Union[str, None] = None) -> None:\n",
    "    self.start = start\n",
    "    self.end = end\n",
    "  \n",
    "  def retrieve_data(self):\n",
    "    raise NotImplementedError(\"Data retrieval not implemented\")\n",
    "    \n",
    "  def calc_stats(self):\n",
    "    self.calc_risk_free_rate()\n",
    "    self.calc_volatility()\n",
    "    \n",
    "  def calc_risk_free_rate(self):\n",
    "    raise NotImplementedError(\"Rf rate not implemented\")\n",
    "    \n",
    "  def calc_volatility(self):\n",
    "    raise NotImplementedError(\"Market volatility not implemented\")\n",
    "\n",
    "  def __str__(self) -> str:\n",
    "    return f'Market Reference: {self.ticker}\\n  Risk-free rate: {self.risk_free_rate}\\n  True Volatility: {self.volatility}'"
   ]
  },
  {
   "cell_type": "code",
   "execution_count": 3,
   "metadata": {},
   "outputs": [],
   "source": [
    "class MarketIndex(Market):\n",
    "  \"\"\"Index-based Market Class\n",
    "  \n",
    "  Params:\n",
    "   - ticker: index to track\n",
    "   - start: start date to retrieve historical data\n",
    "   - end: end date to retrieve historical data\n",
    "  \"\"\"\n",
    "  def __init__(self, ticker: str,  start: str, end: Union[str, None] = None) -> None:\n",
    "    self.ticker = ticker\n",
    "    Market.__init__(self, start, end)\n",
    "    self.retrieve_data()\n",
    "    self.calc_stats()\n",
    "    \n",
    "  def retrieve_data(self):\n",
    "    self.data = yf.download(self.ticker, start = self.start, end = self.end, auto_adjust=True, period='1mo')\n",
    "    self.data = self.data[['Close']].copy()\n",
    "    self.data.dropna(how='all', inplace=True)\n",
    "    self.data['Return'] = self.data['Close'].pct_change()\n",
    "    \n",
    "  def calc_risk_free_rate(self):\n",
    "    self.risk_free_rate = np.mean(self.data['Return'])\n",
    "    \n",
    "  def calc_volatility(self):\n",
    "    self.volatility = np.std(self.data['Return'])"
   ]
  },
  {
   "cell_type": "code",
   "execution_count": 4,
   "metadata": {},
   "outputs": [],
   "source": [
    "class MarketFF(Market):\n",
    "  \"\"\"Fama-French Data-based Market Class\n",
    "  \n",
    "  Params:\n",
    "   - file: csv file from Ken French's Fama-French database\n",
    "   - start: start date to retrieve historical data\n",
    "   - end: end date to retrieve historical data\n",
    "  \"\"\"\n",
    "  def __init__(self, start: str, end: Union[str, None] = None) -> None:\n",
    "    self.ticker = 'Fama-French'\n",
    "    Market.__init__(self, start, end)\n",
    "    self.retrieve_data()\n",
    "    self.calc_stats()\n",
    "    \n",
    "  def retrieve_data(self):\n",
    "    file = 'ff_monthly.CSV'\n",
    "    self.data = pd.read_csv(file)\n",
    "    self.data.columns = ['DATE', 'MKTRF', 'SMB', 'HML', 'RF']\n",
    "    self.data['RF'] = self.data['RF'] / 100\n",
    "    self.data['DATE'] = pd.to_datetime(self.data['DATE'], format='%Y%m')\n",
    "    if self.end is None:\n",
    "      self.data = self.data[(self.data['DATE'] >= self.start)]\n",
    "    else:\n",
    "      self.data = self.data[(self.data['DATE'] >= self.start) & (self.data['DATE'] <= self.end)]\n",
    "      \n",
    "  def calc_risk_free_rate(self):\n",
    "    self.risk_free_rate = np.mean(self.data['RF'])\n",
    "    \n",
    "  def calc_volatility(self):\n",
    "    self.volatility = 0"
   ]
  },
  {
   "cell_type": "code",
   "execution_count": 5,
   "metadata": {},
   "outputs": [],
   "source": [
    "class Portfolio:\n",
    "  \"\"\"Portfolio Class\n",
    "  \n",
    "  Params:\n",
    "   - tickers: the list of stocks to generate the portfolio\n",
    "   - start: start date to retrieve historical data\n",
    "   - end: end date to retrieve historical data\n",
    "  \"\"\"\n",
    "  def __init__(self, tickers: list = [], start: str = \"2014-01-01\", end: Union[str, None] = None) -> None:\n",
    "    if len(tickers) <= 1:\n",
    "      raise Exception(\"Tickers must be a list of at least 2 assets\")\n",
    "    self.tickers = [ticker.upper() for ticker in tickers]\n",
    "    self.tickers.sort()\n",
    "    self.start = start\n",
    "    self.end = end\n",
    "    self.retrieve_data()\n",
    "    self.calc_stats()\n",
    "    \n",
    "  def __str__(self) -> str:\n",
    "    return f'Portfolio Assets: {self.tickers}\\n  Average Return: {self.mean_returns}\\n  Expected Return: {self.expected_returns}'\n",
    "    \n",
    "  def retrieve_data(self):\n",
    "    self.data = yf.download(self.tickers, start = self.start, end = self.end, auto_adjust=True, period='1mo')\n",
    "    self.data = self.data[['Close']]\n",
    "    self.data.dropna(how='all', inplace=True)\n",
    "    \n",
    "    returns = self.data[['Close']].pct_change()\n",
    "    returns.columns = returns.columns.set_levels(['Return'], level=0)\n",
    "    self.data = pd.concat([self.data, returns], axis=1)\n",
    "  \n",
    "  def calc_stats(self):\n",
    "    self.calc_mean_returns()\n",
    "    self.calc_expected_returns()\n",
    "    self.calc_covariance_matrix()\n",
    "  \n",
    "  def calc_mean_returns(self):\n",
    "    self.mean_returns = [np.mean(self.data['Return'][ticker]) for ticker in self.tickers]\n",
    "    \n",
    "  def calc_expected_returns(self):\n",
    "    \"\"\"Uses the Fama-French 3 Factor Model\"\"\"\n",
    "    returns = self.data['Return'].reset_index().melt(id_vars=[\"Date\"], var_name=\"ASSET\", value_name=\"RET\").dropna()\n",
    "    returns.columns = ['DATE', 'ASSET', 'RET']\n",
    "    \n",
    "    ff3 = pd.read_csv('https://mba.tuck.dartmouth.edu/pages/faculty/ken.french/ftp/F-F_Research_Data_Factors_daily_CSV.zip', compression='zip', skiprows=[0,1,2]).dropna()\n",
    "    ff3.columns = ['DATE', 'MKTRF', 'SMB', 'HML', 'RF']\n",
    "    ff3['RF'] = ff3['RF'] / 100\n",
    "    ff3['DATE'] = pd.to_datetime(ff3['DATE'], format='%Y%m%d')\n",
    "    \n",
    "    merged = pd.merge(returns, ff3, on=\"DATE\")\n",
    "    merged[\"XRET\"] = merged[\"RET\"] - merged[\"RF\"]\n",
    "    grouped = merged.groupby([\"ASSET\"])\n",
    "\n",
    "    beta = {'ASSET':[], 'ff3_alpha':[], 'ff3_beta':[], 'smb_beta':[], 'hml_beta':[]}\n",
    "    ret = {'ASSET': [], 'DATE': [], 'FF3_RET': []}\n",
    "\n",
    "    for name, group in grouped:\n",
    "        ff3model = linear_model.LinearRegression().fit(group[[\"MKTRF\", \"SMB\", \"HML\"]], group[\"XRET\"])\n",
    "        \n",
    "        beta['ASSET'].append(name)\n",
    "        beta['ff3_alpha'].append(ff3model.intercept_)\n",
    "        beta['ff3_beta'].append(ff3model.coef_[0])\n",
    "        beta['smb_beta'].append(ff3model.coef_[1])\n",
    "        beta['hml_beta'].append(ff3model.coef_[2])\n",
    "        \n",
    "        ret['ASSET'].extend([name] * len(group))\n",
    "        ret['DATE'].extend(group[\"DATE\"])\n",
    "        ret['FF3_RET'].extend(ff3model.predict(group[[\"MKTRF\", \"SMB\", \"HML\"]]) + group[\"RF\"])\n",
    "        \n",
    "    self.beta = pd.DataFrame(beta)\n",
    "    self.beta['ERET'] = self.beta['ff3_alpha'] + self.beta['ff3_beta'] * np.mean(merged['MKTRF']) + self.beta['smb_beta'] * np.mean(merged['SMB']) + self.beta['hml_beta'] * np.mean(merged['HML'])\n",
    "    self.expected_returns = self.beta['ERET'].to_list()\n",
    "    \n",
    "  def calc_covariance_matrix(self):\n",
    "    \"\"\"Calculates the covariance matrix using OAS shrinkage\"\"\"\n",
    "    returns = self.data['Return'][1:].fillna(0)\n",
    "    self.cov_matrix = covariance.oas(returns)[0]"
   ]
  },
  {
   "cell_type": "code",
   "execution_count": 6,
   "metadata": {},
   "outputs": [],
   "source": [
    "class MVO:\n",
    "  \"\"\"Mean Variance Optimization Class\n",
    "  \n",
    "  Params:\n",
    "   - portfolio: the portfolio to optimize\n",
    "   - market: the market reference\n",
    "   - bounds: constraint on the weight of each stock where 1 == 100% and negative means shorting\n",
    "  \"\"\"\n",
    "  def __init__(self, portfolio: Portfolio, market: Market, bounds: Union[list, None] = None) -> None:\n",
    "    self.portfolio = portfolio\n",
    "    self.market = market\n",
    "    self.bounds = bounds\n",
    "  \n",
    "  def pf_variance(self, weights):\n",
    "    return np.dot(weights.T, np.dot(self.portfolio.cov_matrix, weights))\n",
    "  \n",
    "  def pf_volatility(self, weights):\n",
    "    return np.sqrt(self.pf_variance(weights))\n",
    "  \n",
    "  def pf_return(self, weights):\n",
    "    return np.dot(weights.T, self.portfolio.expected_returns)\n",
    "  \n",
    "  def pf_return_negate(self, weights):\n",
    "    return -np.dot(weights.T, self.portfolio.expected_returns)\n",
    "  \n",
    "  def pf_sharpe(self, weights, risk_free_rate):\n",
    "    return -(self.pf_return(weights) - risk_free_rate) / self.pf_volatility(weights)\n",
    "    \n",
    "  def pf_utility(self, weights, risk_aversion):\n",
    "    return -(self.pf_return(weights) - (1 / 2) * risk_aversion * self.pf_volatility(weights))\n",
    "  \n",
    "  def minimum_variance(self, expected_return=None):\n",
    "    init_guess = np.ones(len(self.portfolio.tickers)) / len(self.portfolio.tickers)\n",
    "\n",
    "    constraints = [{\"type\": \"eq\", \"fun\": lambda x: np.sum(x) - 1}]\n",
    "    if not (expected_return is None):\n",
    "      constraints.append({\"type\": \"eq\", \"fun\": lambda x: self.pf_return(x) - expected_return})\n",
    "\n",
    "    result = minimize(fun=self.pf_variance,\n",
    "                      x0=init_guess,\n",
    "                      args=(),\n",
    "                      method=\"SLSQP\",\n",
    "                      constraints=constraints,\n",
    "                      bounds=self.bounds)\n",
    "\n",
    "    self.stats = {\n",
    "      \"Weights\": result.x,\n",
    "      \"Returns\": np.sum(self.portfolio.expected_returns * result.x),\n",
    "      \"Volatility\": np.sqrt(result.fun)\n",
    "    }\n",
    "    \n",
    "  def maximum_return(self, expected_volatility):\n",
    "    init_guess = np.ones(len(self.portfolio.tickers)) / len(self.portfolio.tickers)\n",
    "\n",
    "    constraints = [{\"type\": \"eq\", \"fun\": lambda x: np.sum(x) - 1},\n",
    "                   {\"type\": \"eq\", \"fun\": lambda x: self.pf_volatility(x) - expected_volatility}]\n",
    "\n",
    "    result = minimize(fun=self.pf_return_negate,\n",
    "                      x0=init_guess,\n",
    "                      args=(),\n",
    "                      method=\"SLSQP\",\n",
    "                      constraints=constraints,\n",
    "                      bounds=self.bounds)\n",
    "\n",
    "    self.stats = {\n",
    "      \"Weights\": result.x,\n",
    "      \"Returns\": -result.fun,\n",
    "      \"Volatility\": self.pf_volatility(result.x)\n",
    "    }\n",
    "  \n",
    "  def maximum_sharpe(self):\n",
    "    init_guess = np.ones(len(self.portfolio.tickers)) / len(self.portfolio.tickers)\n",
    "\n",
    "    constraints = [{\"type\": \"eq\", \"fun\": lambda x: np.sum(x) - 1}]\n",
    "\n",
    "    result = minimize(fun=self.pf_sharpe,\n",
    "                      x0=init_guess,\n",
    "                      args=(self.market.risk_free_rate),\n",
    "                      method=\"SLSQP\",\n",
    "                      constraints=constraints,\n",
    "                      bounds=self.bounds)\n",
    "\n",
    "    self.stats = {\n",
    "      \"Weights\": result.x,\n",
    "      \"Returns\": np.sum(self.portfolio.expected_returns * result.x),\n",
    "      \"Volatility\": self.pf_volatility(result.x),\n",
    "      \"Sharpe\": -result.fun\n",
    "    }\n",
    "    \n",
    "  def maximum_utility(self, risk_aversion=10):\n",
    "    init_guess = np.ones(len(self.portfolio.tickers)) / len(self.portfolio.tickers)    \n",
    "\n",
    "    constraints = [{\"type\": \"eq\", \"fun\": lambda x: np.sum(x) - 1}]\n",
    "\n",
    "    result = minimize(fun=self.pf_utility,\n",
    "                      x0=init_guess,\n",
    "                      args=(risk_aversion),\n",
    "                      method=\"SLSQP\",\n",
    "                      constraints=constraints,\n",
    "                      bounds=self.bounds)\n",
    "\n",
    "    self.stats = {\n",
    "      \"Weights\": result.x,\n",
    "      \"Returns\": np.sum(self.portfolio.expected_returns * result.x),\n",
    "      \"Volatility\": self.pf_volatility(result.x),\n",
    "      \"Utility\": -result.fun\n",
    "    }\n",
    "    \n",
    "  def plot_MVO(self):\n",
    "    self.minimum_variance()\n",
    "    returns = np.linspace(self.stats['Returns'] - 0.001, self.stats['Returns'] + 0.002, 51)\n",
    "    vol = []\n",
    "    for ret in returns:\n",
    "      self.minimum_variance(ret)\n",
    "      vol.append(self.stats[\"Volatility\"])\n",
    "    plt.plot(vol, returns)\n",
    "    plt.title('Mean Variance Frontier')\n",
    "    plt.xlabel('Volatility')\n",
    "    plt.ylabel('Return')\n",
    "    plt.show()"
   ]
  },
  {
   "cell_type": "code",
   "execution_count": 7,
   "metadata": {},
   "outputs": [
    {
     "name": "stdout",
     "output_type": "stream",
     "text": [
      "[*********************100%***********************]  1 of 1 completed\n",
      "Market Reference: ^GSPC\n",
      "  Risk-free rate: 0.0004882915114136135\n",
      "  True Volatility: 0.014496710116372588\n",
      "Market Reference: Fama-French\n",
      "  Risk-free rate: 0.0026041666666666665\n",
      "  True Volatility: 0\n",
      "[*********************100%***********************]  5 of 5 completed\n",
      "Portfolio Assets: ['AAPL', 'GOOGL', 'MSFT', 'NFLX', 'TSLA']\n",
      "  Average Return: [0.0011931516328480714, 0.0009382902057706153, 0.0010937003276242383, 0.0008849065778596556, 0.003091290908437963]\n",
      "  Expected Return: [0.0011277034256767576, 0.0008728419985993014, 0.0010282521204529249, 0.0008194583706883415, 0.0030258427012666445]\n"
     ]
    },
    {
     "data": {
      "image/png": "[encoded data removed]",
      "text/plain": [
       "<Figure size 432x288 with 1 Axes>"
      ]
     },
     "metadata": {
      "needs_background": "light"
     },
     "output_type": "display_data"
    },
    {
     "data": {
      "image/png": "[encoded data removed]",
      "text/plain": [
       "<Figure size 432x288 with 1 Axes>"
      ]
     },
     "metadata": {
      "needs_background": "light"
     },
     "output_type": "display_data"
    }
   ],
   "source": [
    "# Example Usage\n",
    "index_market = MarketIndex('^GSPC', \"2020-01-01\", \"2023-12-29\")\n",
    "print(index_market)\n",
    "ff_market = MarketFF(\"2022-01-01\", \"2023-12-29\")\n",
    "print(ff_market)\n",
    "portfolio = Portfolio(['aapl', 'googl', 'msft', 'nflx', 'tsla'], \"2020-01-01\", \"2023-12-29\")\n",
    "print(portfolio)\n",
    "mvo_idx = MVO(portfolio, index_market, None)\n",
    "mvo_idx.plot_MVO()\n",
    "mvo_ff = MVO(portfolio, ff_market, [[0,1]] * len(portfolio.tickers))\n",
    "mvo_ff.plot_MVO()"
   ]
  },
  {
   "cell_type": "code",
   "execution_count": 8,
   "metadata": {},
   "outputs": [
    {
     "data": {
      "text/plain": [
       "{'Weights': array([ 0.41928967, -0.54185537,  0.24743125, -0.42904964,  1.30418409]),\n",
       " 'Returns': 0.0038489695644417666,\n",
       " 'Volatility': 0.05472190879835459,\n",
       " 'Sharpe': 0.06141375779510827}"
      ]
     },
     "execution_count": 8,
     "metadata": {},
     "output_type": "execute_result"
    }
   ],
   "source": [
    "mvo_idx.maximum_sharpe()\n",
    "mvo_idx.stats"
   ]
  },
  {
   "cell_type": "code",
   "execution_count": 9,
   "metadata": {},
   "outputs": [
    {
     "data": {
      "text/plain": [
       "{'Weights': array([0.2, 0.2, 0.2, 0.2, 0.2]),\n",
       " 'Returns': 0.001374819723336794,\n",
       " 'Volatility': 0.021362719705889533}"
      ]
     },
     "execution_count": 9,
     "metadata": {},
     "output_type": "execute_result"
    }
   ],
   "source": [
    "mvo_idx.minimum_variance()\n",
    "mvo_idx.stats"
   ]
  },
  {
   "cell_type": "code",
   "execution_count": 10,
   "metadata": {},
   "outputs": [
    {
     "data": {
      "text/plain": [
       "{'Weights': array([2.42861287e-17, 0.00000000e+00, 4.85722573e-17, 0.00000000e+00,\n",
       "        1.00000000e+00]),\n",
       " 'Returns': 0.0030258427012666445,\n",
       " 'Volatility': 0.04282885862302015,\n",
       " 'Sharpe': 0.009845605233414526}"
      ]
     },
     "execution_count": 10,
     "metadata": {},
     "output_type": "execute_result"
    }
   ],
   "source": [
    "mvo_ff.maximum_sharpe()\n",
    "mvo_ff.stats"
   ]
  },
  {
   "cell_type": "code",
   "execution_count": 11,
   "metadata": {},
   "outputs": [
    {
     "data": {
      "text/plain": [
       "{'Weights': array([0.2, 0.2, 0.2, 0.2, 0.2]),\n",
       " 'Returns': 0.001374819723336794,\n",
       " 'Volatility': 0.021362719705889533}"
      ]
     },
     "execution_count": 11,
     "metadata": {},
     "output_type": "execute_result"
    }
   ],
   "source": [
    "mvo_ff.minimum_variance()\n",
    "mvo_ff.stats"
   ]
  },
  {
   "cell_type": "markdown",
   "metadata": {},
   "source": [
    "## Testing"
   ]
  },
  {
   "cell_type": "code",
   "execution_count": 12,
   "metadata": {},
   "outputs": [],
   "source": [
    "def plotReturns(portfolio: Portfolio, reference: MarketIndex, weights: list):\n",
    "  market_trace = [1000]\n",
    "  for ret in reference.data['Return'][1:]:\n",
    "    market_trace.append(market_trace[-1] * (1+ret))\n",
    "\n",
    "  portfolio_trace = portfolio.data[\"Return\"].copy()\n",
    "  portfolio_trace.iloc[0] = weights\n",
    "  portfolio_trace.iloc[0] *= 1000\n",
    "\n",
    "  for idx in portfolio_trace.index[1:]:\n",
    "    portfolio_trace.loc[idx] = portfolio_trace.shift(1).loc[idx] * (1+portfolio.data[\"Return\"].loc[idx])\n",
    "    \n",
    "  portfolio_trace['total'] = portfolio_trace.sum(axis=1)\n",
    "  \n",
    "  plt.plot(reference.data.index, market_trace, label=\"Index\")\n",
    "  plt.plot(portfolio_trace.index, portfolio_trace['total'], label=\"Portfolio\")\n",
    "  plt.title(f'{reference.ticker} Index vs Optimized Portfolio from {portfolio.start} to {portfolio.end}')\n",
    "  plt.legend(loc='best')\n",
    "  plt.xlabel('Dates')\n",
    "  plt.ylabel('Returns')\n",
    "  plt.show()"
   ]
  },
  {
   "cell_type": "code",
   "execution_count": 13,
   "metadata": {},
   "outputs": [],
   "source": [
    "nasdaq100 = open('nasdaq100.txt', 'r').read().split('\\n')\n",
    "dj30 = open('dj30.txt', 'r').read().split('\\n')\n",
    "train_data = nasdaq100\n",
    "train_data.remove('GEHC')\n",
    "train_data.remove('CEG')\n",
    "train_data.remove('GFS')"
   ]
  },
  {
   "cell_type": "code",
   "execution_count": 14,
   "metadata": {},
   "outputs": [
    {
     "name": "stdout",
     "output_type": "stream",
     "text": [
      "Market Reference: Fama-French\n",
      "  Risk-free rate: 0.0013015873015873002\n",
      "  True Volatility: 0\n",
      "[*********************100%***********************]  98 of 98 completed\n",
      "Portfolio Assets: ['AAPL', 'ABNB', 'ADBE', 'ADI', 'ADP', 'ADSK', 'AEP', 'AMAT', 'AMD', 'AMGN', 'AMZN', 'ANSS', 'ASML', 'AVGO', 'AZN', 'BIIB', 'BKNG', 'BKR', 'CCEP', 'CDNS', 'CDW', 'CHTR', 'CMCSA', 'COST', 'CPRT', 'CRWD', 'CSCO', 'CSGP', 'CSX', 'CTAS', 'CTSH', 'DASH', 'DDOG', 'DLTR', 'DXCM', 'EA', 'EXC', 'FANG', 'FAST', 'FTNT', 'GILD', 'GOOG', 'GOOGL', 'HON', 'IDXX', 'ILMN', 'INTC', 'INTU', 'ISRG', 'KDP', 'KHC', 'KLAC', 'LRCX', 'LULU', 'MAR', 'MCHP', 'MDB', 'MDLZ', 'MELI', 'META', 'MNST', 'MRNA', 'MRVL', 'MSFT', 'MU', 'NFLX', 'NVDA', 'NXPI', 'ODFL', 'ON', 'ORLY', 'PANW', 'PAYX', 'PCAR', 'PDD', 'PEP', 'PYPL', 'QCOM', 'REGN', 'ROP', 'ROST', 'SBUX', 'SIRI', 'SNPS', 'SPLK', 'TEAM', 'TMUS', 'TSLA', 'TTD', 'TTWO', 'TXN', 'VRSK', 'VRTX', 'WBA', 'WBD', 'WDAY', 'XEL', 'ZS']\n",
      "  Average Return: [0.001302432097355052, 0.00407074431631776, 0.0010258736326120284, 0.000649744900857472, 0.000489802380353535, 0.001035565810668077, 0.0004836171938316792, 0.0006213779544719637, 0.0011354857802951103, 0.0004854520809610892, 0.0012018037856705314, 0.001209041805977427, 0.0009653341887237288, 0.0014859479902040915, 0.00046487579778589725, 0.0008479223714209922, 0.0011431372152196557, 0.00047676539646100983, 0.0005640270094934378, 0.0006904402311366623, 0.0012439822282382643, 0.0012117477411861574, 0.0004853175969845237, 0.000623001482922886, 0.0009353648045740644, 0.004329005451837272, 0.00031334566721329804, 0.000986653320260005, 0.0008409149670627999, 0.0006817710869244426, 0.0010991377903371436, -0.019624847789635674, 0.003966039094228786, 0.0007486076540210635, 0.0015067697320718702, 0.0006776670484282649, 0.0004604783721262776, 0.0010447818522882997, 0.0008559876274632811, 0.0013617487003500638, 0.0010243880557410637, 0.0010512853304801182, 0.0010493856133776854, 0.0005443312046352275, 0.0011258025823189096, 0.0012571900963563997, 0.0003862681199146784, 0.0008232957265208726, 0.0014582795888988353, 0.0008727977817609226, -0.00017139014213585148, 0.0008255167756796492, 0.0010017636192829321, 0.0014900161840806895, 0.0006919057275995041, 0.0008273551671888654, 0.003722802025055183, 0.00040193253630371343, 0.0018342035385519636, 0.001189766048301417, 0.0017443331109459415, 0.0048181467126366855, 0.0008606935378677197, 0.0005312364061452983, 0.0007717665868428319, 0.001954526234532856, 0.0016654660642331745, 0.0013161631030021647, 0.0013553240113572376, 0.0008212956294592114, 0.00094013272586371, 0.0011978166658974158, 0.0005319408700849912, 0.0008036340034678081, 0.0037654253957935466, 0.0004414356107120098, 0.0015792815431174816, 0.0005279620280012043, 0.0014431634281552458, 0.0008150229455437112, 0.0010406521852883855, 0.0009304252059550201, 0.0007414115375031337, 0.0006257923792541825, 0.0011583268583423563, 0.0022870443489684056, 0.0007142906333480328, 0.0024941569995167857, 0.0040052773217112946, 0.0011118042572771894, 0.0005865544898701842, 0.0008190357282838454, 0.0011122969185403896, 0.0002911439388531574, 0.0005881636543864983, 0.0010804669280627531, 0.0005544737824656982, 0.0033580820152415533]\n",
      "  Expected Return: [0.0013201294856263568, -5.5222471789335654e-05, 0.001059948594024237, 0.0006716607800563073, 0.0004635812336989273, 0.0010378566677967328, 0.00044361768035103337, 0.0006446167933018179, 0.0011611466564522234, 0.0004882692903268977, 0.0012348948590418496, 0.001191563151028774, 0.00099451718818487, 0.0010789948927193824, 0.0004365280793188242, 0.0008667559006185205, 0.0011536159290066901, 0.000425590208555126, 0.000520231085978722, 0.0006888157566265753, 0.001002085709528553, 0.0009376083945976862, 0.0004613509516188876, 0.0006066896954534306, 0.0009053882983199741, 0.0023034929973168444, 0.0003367702550990592, 0.0009672416656842229, 0.0008030762300244277, 0.0006616603431655824, 0.0010940398596283234, -0.019518948639746198, 0.0017122949340166085, 0.0007310439853075183, 0.0013365498683459676, 0.0006858484886057197, 0.0004167900001913303, 0.001075636192573381, 0.0008340778722211362, 0.0009000678300720167, 0.001029395963807616, 0.0008547759854153971, 0.0008523507162300784, 0.0005208101626503966, 0.0011149529915817945, 0.0012457077689755195, 0.0004044130982145949, 0.0008390564420490575, 0.0014381359558644999, 0.0007416643770387986, -0.0003744595696554861, 0.0008539316789381521, 0.0010305214985222694, 0.0013493787996620716, 0.0006474311211917646, 0.0008426461379605643, 0.002352351250994981, 0.0003372666770528202, 0.0015530767160722393, 0.0007067931319339925, 0.0017093758990544962, 0.003974024555348604, 0.0008733065700367412, 0.0005445149259539661, 0.0007808038723751735, 0.0017820781573946217, 0.001710121961616782, 0.000964299404057622, 0.0013070560784161122, 0.000805674394278437, 0.0009163540552156604, 0.0007963852537319758, 0.000516193553989438, 0.0007776067277280456, 0.002799253624578494, 0.00040512816913877985, 0.0009830368693309847, 0.0005489439439113207, 0.0014619834530940933, 0.0007893844564785418, 0.0010054355478821427, 0.0009089987811771614, 0.000727016657455349, 0.000628009993869293, 0.0006203770796823534, 0.0015667583782386252, 0.000579101000302311, 0.001967274150234185, 0.002945440405578554, 0.001108439347872079, 0.0006041952229302659, 0.0005468392524035951, 0.0011392752252386356, 0.00025108189218810996, 0.0005111496319831538, 0.000557449093600806, 0.0005157165108676869, 0.0020070433480936247]\n"
     ]
    }
   ],
   "source": [
    "train_start, train_end = [\"2000-01-01\", \"2020-12-29\"]\n",
    "market_train = MarketFF(train_start, train_end)\n",
    "print(market_train)\n",
    "portfolio_train = Portfolio(train_data, train_start, train_end)\n",
    "print(portfolio_train)"
   ]
  },
  {
   "cell_type": "code",
   "execution_count": 15,
   "metadata": {},
   "outputs": [
    {
     "name": "stdout",
     "output_type": "stream",
     "text": [
      "[*********************100%***********************]  1 of 1 completed\n",
      "Market Reference: ^NDX\n",
      "  Risk-free rate: 0.0018189935087631396\n",
      "  True Volatility: 0.011302842429616385\n",
      "[*********************100%***********************]  98 of 98 completed\n",
      "Portfolio Assets: ['AAPL', 'ABNB', 'ADBE', 'ADI', 'ADP', 'ADSK', 'AEP', 'AMAT', 'AMD', 'AMGN', 'AMZN', 'ANSS', 'ASML', 'AVGO', 'AZN', 'BIIB', 'BKNG', 'BKR', 'CCEP', 'CDNS', 'CDW', 'CHTR', 'CMCSA', 'COST', 'CPRT', 'CRWD', 'CSCO', 'CSGP', 'CSX', 'CTAS', 'CTSH', 'DASH', 'DDOG', 'DLTR', 'DXCM', 'EA', 'EXC', 'FANG', 'FAST', 'FTNT', 'GILD', 'GOOG', 'GOOGL', 'HON', 'IDXX', 'ILMN', 'INTC', 'INTU', 'ISRG', 'KDP', 'KHC', 'KLAC', 'LRCX', 'LULU', 'MAR', 'MCHP', 'MDB', 'MDLZ', 'MELI', 'META', 'MNST', 'MRNA', 'MRVL', 'MSFT', 'MU', 'NFLX', 'NVDA', 'NXPI', 'ODFL', 'ON', 'ORLY', 'PANW', 'PAYX', 'PCAR', 'PDD', 'PEP', 'PYPL', 'QCOM', 'REGN', 'ROP', 'ROST', 'SBUX', 'SIRI', 'SNPS', 'SPLK', 'TEAM', 'TMUS', 'TSLA', 'TTD', 'TTWO', 'TXN', 'VRSK', 'VRTX', 'WBA', 'WBD', 'WDAY', 'XEL', 'ZS']\n",
      "  Average Return: [0.0014252443718493061, 0.0023957959429533006, 0.0019402869984770676, 0.0007490828430512674, 0.00041642006563262415, 0.0013344908171205132, -0.00022492253529907038, 0.0027760029016739357, 0.0040077719373247086, 0.0005872953741044608, 0.0027045068703408365, 0.001447039628018389, 0.0020975717290360216, 0.0032613348084709047, 4.3158154210713754e-05, -0.0005941904230321519, 0.0020491299153448206, 0.0003905941740963121, 0.0009787466866947178, 0.0024045572300137787, 0.0012841758474465555, -0.00020648889157983834, 0.0007840365279914186, 0.001882237535149801, 0.001891258616638114, 0.004223679555102377, 0.00027909701271866847, 0.00045506107489320724, 0.0008836138621201211, 0.0013136936949124322, 0.0013227252025456544, 0.003612624775796673, 0.002668184101441738, 0.0003169112031560543, 0.0003482734677634612, 0.0006240894611214927, -0.00040552785692511044, 0.0013921265073693577, 0.001695703399890789, 0.001498298961736832, -0.0002877415107495505, 0.0018676311308030344, 0.001856746604575474, -8.914052225571379e-05, 0.00141517086775175, -0.0010174848509427418, 0.0020533570915639565, 0.002022406834178733, 0.0015102226307198363, -0.0003970931382189599, -0.00020866383298442752, 0.0022961482478591946, 0.003117770317517634, 0.0014122283352625425, 0.002018674253027094, 0.0009309017317184697, 0.0036698730476273996, 0.0005258002318038326, 0.0026881265242177815, 0.005093055886664467, 0.00038833535803405804, -0.0016986314681130244, 0.0027630953925941756, 0.0020375672349496826, 0.002145065375137897, 0.0026606989816934765, 0.006443963157133372, 0.0017808850047045023, 0.0017694361981625353, 0.0011702772053340505, 0.0008854806762197296, 0.002945753812959764, 0.0004759402093705029, 0.0021055550653410852, 0.0020258025355027022, -5.114010004535315e-05, -0.0005112998498962556, 0.0015734167355817594, 0.0011886294164714973, 0.0009442101742318948, 0.0009790235125589565, 4.841809401604199e-06, 0.0001420861213107005, 0.0022217830626801885, 0.0022760026076393703, 0.002223653984463803, 0.0006632669322620108, 0.002546633050404447, 0.0027550286455013703, 0.0014950111947936299, 0.00025761501674632665, 0.001226824708738445, 0.0015438264256425456, -0.0013636988722249082, 0.0002089625973603917, 0.00225328750908434, -0.0003893666537322682, 0.00318035938368854]\n",
      "  Expected Return: [0.0016434011549270253, 0.00206089715393758, 0.0023064595678161546, 0.0008261687604511684, -9.323094302613029e-05, 0.0011047061510369876, -0.0005692134507089415, 0.0021461070376147945, 0.003593513234335143, 0.0004158974387344706, 0.002319968293582959, 0.001698689712120299, 0.0013249637127009761, 0.002920894825530656, -0.0001274712632521597, -0.0003061882657492777, 0.002170253779560288, 0.0007466174252264201, 0.0008173445061308844, 0.0021040932242453684, 0.0009245529086814728, 0.0005260425667093142, 0.000847546244408283, 0.0015115080988330905, 0.0017755858327649903, 0.003792650114929106, 0.0002238454276362197, 0.00043069906294580405, 0.00041568125232439656, 0.0011041150370292453, 0.001077456887404379, 0.0030649778635186815, 0.002565668825865806, 4.945238061404344e-05, 0.00044459047515314315, 0.00035201256492394764, -0.0006945757798526198, 0.0008577682339920655, 0.0012798842945715655, 0.0009122127876793928, -0.00016957034977187937, 0.0018102457665917723, 0.0017981862112783301, -0.0001240222985911327, 0.001251466590131907, -0.001219645405095524, 0.00273106380268192, 0.0018911685065107113, 0.0009331021011285259, -0.00028804868269656747, -0.00034584190457201446, 0.001832810869501533, 0.002668032791627872, 0.0018556538177562424, 0.001664909617152321, 0.0011719919493631964, 0.0035495136836267063, 0.0003199631081708208, 0.002699271216016572, 0.004301640915190599, 0.0004118594700085238, -0.0021447539769366545, 0.002463226143213689, 0.0017801345998771528, 0.0022122402677205197, 0.0020959802710660337, 0.005250272345000899, 0.0016715024224732292, 0.0014884430357505849, 0.001473164465332712, 0.00037996319018884675, 0.003134652443203317, 0.00013959568170951274, 0.0016995580659086088, 0.002639369562450032, -0.00025314770277648426, -0.0007041868176626777, 0.0013131076514038278, 0.0007202563001007808, 0.0007921835193984813, 0.0006568292114332659, -0.0002034389215786136, 0.0004911864011243152, 0.0018720902353338105, 0.0023390119268781326, 0.002890933381689337, 0.0004687866452456688, 0.0037011964818296893, 0.002374144998258598, 0.001758238520511848, 0.00022088826691323547, 0.0011081909377265013, 0.0013468773006085036, -0.0011087491358746512, 0.0011080777312166023, 0.001970512389622399, -0.00047674718453064036, 0.0031268803742450623]\n"
     ]
    }
   ],
   "source": [
    "test_start, test_end = [\"2023-01-01\", \"2024-02-29\"]\n",
    "market_test = MarketIndex('^NDX', test_start, test_end)\n",
    "print(market_test)\n",
    "portfolio_test = Portfolio(train_data, test_start, test_end)\n",
    "print(portfolio_test)"
   ]
  },
  {
   "cell_type": "code",
   "execution_count": 16,
   "metadata": {},
   "outputs": [
    {
     "data": {
      "text/plain": [
       "{'Weights': array([-8.72100491e+00,  1.28359344e+04, -1.64993068e+01,  4.16185075e+01,\n",
       "        -3.31395001e+01, -2.89595092e+01,  2.78792107e+02, -6.20925297e+01,\n",
       "        -1.27334303e+00,  8.38327146e+00,  2.66092519e-01, -1.58087958e+01,\n",
       "         1.40346316e+01, -5.76085783e+01,  9.41754989e+01, -1.52933232e+01,\n",
       "         1.57506625e+01, -3.58159467e+01,  5.13915231e+01, -3.14982711e+01,\n",
       "         3.82671241e+02,  1.47964657e+02, -1.56209038e+01,  7.63285297e+01,\n",
       "         1.22034401e+01,  3.15757989e+02,  3.48071099e+01, -3.56787298e+00,\n",
       "        -1.67839130e+01, -2.02640472e+01,  1.95036830e+00, -1.51316756e+04,\n",
       "         1.18788484e+02,  3.49818128e+01, -7.69478582e+00,  2.95095955e+01,\n",
       "        -9.76795540e+01,  1.01676527e+02, -2.82840194e+01, -2.20421854e+01,\n",
       "         5.29501773e+01,  2.78718387e+01,  2.55898659e+01, -1.73461092e+00,\n",
       "        -7.09924018e+00, -2.19216878e+00,  2.47291369e+01, -3.97951526e+01,\n",
       "        -1.37050132e+01,  1.95581595e+02,  1.72008164e+02,  4.09257504e+00,\n",
       "         1.11280202e+01, -2.93720499e+01, -3.50424377e+00, -2.52035987e+01,\n",
       "        -3.50635226e+02, -6.26642436e+01, -2.92249141e+01,  3.98047164e+01,\n",
       "         1.72171814e+01,  3.43952853e+02, -2.05701210e+01, -1.16418434e+02,\n",
       "        -2.55272114e+01, -7.79747375e+00, -6.27870244e+00,  1.61901596e+00,\n",
       "         4.09863182e+01, -1.93344558e+01,  3.15231593e+01,  2.34655224e+01,\n",
       "        -3.54696560e+01,  5.65862574e+01,  2.63086056e+02,  1.97673862e+01,\n",
       "         2.28871015e+02,  3.81030275e+00, -2.57106534e+00,  2.46186412e+01,\n",
       "        -2.80499502e+01,  1.36961358e+01,  8.19882720e+00, -2.57083045e+00,\n",
       "        -4.42667961e+00,  1.66652182e+02,  2.23904151e+00,  1.63724564e+01,\n",
       "         8.48107286e+01,  6.59578468e+00,  4.38879923e+01,  1.50623840e+01,\n",
       "        -1.46696988e+01,  5.99066681e+00,  6.59767022e+01, -1.67984570e+02,\n",
       "         1.03359999e+01,  2.20571857e+01]),\n",
       " 'Returns': 298.333817794636,\n",
       " 'Volatility': 43.32211184960424,\n",
       " 'Sharpe': 6.886379806298841}"
      ]
     },
     "execution_count": 16,
     "metadata": {},
     "output_type": "execute_result"
    }
   ],
   "source": [
    "mvo_train = MVO(portfolio_train, market_train, [[0,1]] * len(train_data))\n",
    "mvo_train.maximum_sharpe()\n",
    "mvo_train.stats"
   ]
  },
  {
   "cell_type": "code",
   "execution_count": 17,
   "metadata": {},
   "outputs": [
    {
     "data": {
      "image/png": "[encoded data removed]",
      "text/plain": [
       "<Figure size 432x288 with 1 Axes>"
      ]
     },
     "metadata": {
      "needs_background": "light"
     },
     "output_type": "display_data"
    }
   ],
   "source": [
    "mvo_train.plot_MVO()"
   ]
  },
  {
   "cell_type": "code",
   "execution_count": 18,
   "metadata": {},
   "outputs": [
    {
     "data": {
      "image/png": "[encoded data removed]",
      "text/plain": [
       "<Figure size 432x288 with 1 Axes>"
      ]
     },
     "metadata": {
      "needs_background": "light"
     },
     "output_type": "display_data"
    }
   ],
   "source": [
    "plotReturns(portfolio_test, market_test, mvo_train.stats['Weights'])"
   ]
  }
 ],
 "metadata": {
  "kernelspec": {
   "display_name": "base",
   "language": "python",
   "name": "python3"
  },
  "language_info": {
   "codemirror_mode": {
    "name": "ipython",
    "version": 3
   },
   "file_extension": ".py",
   "mimetype": "text/x-python",
   "name": "python",
   "nbconvert_exporter": "python",
   "pygments_lexer": "ipython3",
   "version": "3.8.8"
  }
 },
 "nbformat": 4,
 "nbformat_minor": 2
}
